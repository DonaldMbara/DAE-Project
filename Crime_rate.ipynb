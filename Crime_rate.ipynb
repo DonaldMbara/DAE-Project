{
 "cells": [
  {
   "cell_type": "markdown",
   "metadata": {},
   "source": [
    "# Analysis of the effects of inequality and poverty on crime rate of South Africa\n",
    "\n",
    "\n",
    "This project uses the data from the South African Police Services (SAPS), StatisticsSA and the Gini index (A measure of the distribution of income across a population.) to measure the extent to which poverty and inequality affects crime in 9 provices of SA.\n",
    "\n",
    "1) Determine if correlation between crime variables category_of_crime , gini index and the GDP(of the given province) exists. Does the a low GDP lead to high crime rates? what crimes the leading crimes in low GDP provinces?\n",
    "\n",
    "2) Determine if the is a statistically significant difference between high GDP and low GDP provinces in terms of crime rate.\n",
    "\n",
    "3) Limitations to the dataset are that the is no time frame in months on when the crime happend and what are the reasons the crime happend."
   ]
  },
  {
   "cell_type": "code",
   "execution_count": 1,
   "metadata": {},
   "outputs": [],
   "source": [
    "import numpy as np\n",
    "import pandas as pd\n",
    "import matplotlib.pyplot as plt"
   ]
  },
  {
   "cell_type": "markdown",
   "metadata": {},
   "source": [
    "## link to the datasets\n",
    "\n",
    "* SA crime stats https://www.kaggle.com/slwessels/crime-statistics-for-south-africa\n",
    "* gini index https://www.kaggle.com/psterk/income-inequality\n",
    "* GDP per province http://www.statssa.gov.za/?p=12056"
   ]
  },
  {
   "cell_type": "code",
   "execution_count": null,
   "metadata": {},
   "outputs": [],
   "source": []
  }
 ],
 "metadata": {
  "kernelspec": {
   "display_name": "Python 3",
   "language": "python",
   "name": "python3"
  },
  "language_info": {
   "codemirror_mode": {
    "name": "ipython",
    "version": 3
   },
   "file_extension": ".py",
   "mimetype": "text/x-python",
   "name": "python",
   "nbconvert_exporter": "python",
   "pygments_lexer": "ipython3",
   "version": "3.8.5"
  }
 },
 "nbformat": 4,
 "nbformat_minor": 4
}
