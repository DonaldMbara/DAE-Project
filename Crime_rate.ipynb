{
 "cells": [
  {
   "cell_type": "markdown",
   "metadata": {},
   "source": [
    "# Analysis of the effects of inequality and poverty on crime rate of South Africa\n",
    "\n",
    "\n",
    "This project uses the data from the South African Police Services (SAPS), StatisticsSA and the Gini index (A measure of the distribution of income across a population.) to measure the extent to which poverty and inequality affects crime in 9 provices of SA.\n",
    "\n",
    "1) Determine if correlation between crime variables category_of_crime , gini index and the GDP(of the given province) exists. Does the a low GDP lead to high crime rates? what crimes the leading crimes in low GDP provinces?\n",
    "\n",
    "2) Determine if the is a statistically significant difference between high GDP and low GDP provinces in terms of crime rate.\n",
    "\n",
    "3) Limitations to the dataset are that the is no time frame in months on when the crime happend and what are the reasons the crime happend."
   ]
  },
  {
   "cell_type": "markdown",
   "metadata": {},
   "source": [
    "## link to the datasets\n",
    "\n",
    "* SA crime stats https://www.kaggle.com/slwessels/crime-statistics-for-south-africa\n",
    "* gini index https://www.kaggle.com/psterk/income-inequality\n",
    "* GDP per province http://www.statssa.gov.za/?p=12056"
   ]
  },
  {
   "cell_type": "markdown",
   "metadata": {},
   "source": [
    "# Introduction\n",
    "\n",
    "South Africas' Poverty and inequality has had a long history. In *per capita* terms it is an upper-middle-income country but most households still experience poverty or are at least vulnerable to being poor. Given that the country has developed policies to alleviate poverty, it still remains one of the highest in the world in terms of income inequality. South Africas' crime rates have also been on the rise since 1997, with the highest rate in Johannesburg followed by Pretoria, Cape Town and Durban. In this assignment we are going to look at the effects of inequality and poverty on the crime rate of South Africa"
   ]
  },
  {
   "cell_type": "code",
   "execution_count": 1,
   "metadata": {},
   "outputs": [],
   "source": [
    "import numpy as np\n",
    "import pandas as pd\n",
    "import matplotlib.pyplot as plt"
   ]
  },
  {
   "cell_type": "code",
   "execution_count": null,
   "metadata": {},
   "outputs": [],
   "source": []
  }
 ],
 "metadata": {
  "kernelspec": {
   "display_name": "Python 3",
   "language": "python",
   "name": "python3"
  },
  "language_info": {
   "codemirror_mode": {
    "name": "ipython",
    "version": 3
   },
   "file_extension": ".py",
   "mimetype": "text/x-python",
   "name": "python",
   "nbconvert_exporter": "python",
   "pygments_lexer": "ipython3",
   "version": "3.7.3"
  }
 },
 "nbformat": 4,
 "nbformat_minor": 4
}
