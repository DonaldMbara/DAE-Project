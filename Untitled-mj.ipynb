{
 "cells": [
  {
   "cell_type": "markdown",
   "metadata": {},
   "source": [
    "## how does different economic factors affect Unemployment rate "
   ]
  },
  {
   "cell_type": "markdown",
   "metadata": {},
   "source": [
    "<br>\n",
    "Question: 4<br>\n",
    "Investigating the relationship between governments profits/losses on investments and unemployment rate in South Africa: Do investment returns affect the employment?\n",
    "<br>\n",
    "<br>\n",
    "I will explore this relationship using the regression slope test that has a regression line of the format:\n",
    "<br>\n",
    "$$\n",
    "Y=B_{i} X\n",
    "$$\n",
    "Where $X$ are the selected variables and $B_{i}$ are the respective coefficients.Thus, the **hypothesis** is as follows:\n",
    "$$\n",
    "\\begin{array}{l}{\\mathrm{H}_{\\mathrm{0}} : \\mathrm{B}_{i}=0} \\\\ {\\mathrm{H}_{\\mathrm{1}} : \\mathrm{B}_{i} \\neq 0 } for at least one i \\end{array}\n",
    "$$\n",
    "\n",
    "<br>\n",
    "<br>\n",
    "I will be using the $F$ test to simultaneously check the significance of a number of regression coefficients."
   ]
  },
  {
   "cell_type": "code",
   "execution_count": 1,
   "metadata": {},
   "outputs": [],
   "source": [
    "from sklearn.preprocessing import LabelEncoder\n",
    "from sklearn.preprocessing import OneHotEncoder\n",
    "from sklearn.model_selection import train_test_split \n",
    "from sklearn.linear_model import LinearRegression\n",
    "from sklearn.metrics import mean_squared_error\n",
    "from sklearn.feature_selection import RFE\n",
    "from sklearn import metrics\n",
    "from sklearn.utils import resample\n",
    "import warnings\n",
    "warnings.filterwarnings('ignore')\n",
    "from statsmodels.stats.outliers_influence import variance_inflation_factor\n",
    "from scipy import stats\n",
    "from sklearn.metrics import r2_score\n",
    "from sklearn import preprocessing\n",
    "import pandas as pd\n",
    "import matplotlib.pyplot as plt\n",
    "import numpy as np\n",
    "import seaborn as sns\n",
    "import re\n",
    "import string\n",
    "import scipy.stats\n",
    "from statsmodels.formula.api import rlm\n",
    "import statsmodels.api as sm"
   ]
  },
  {
   "cell_type": "code",
   "execution_count": 2,
   "metadata": {},
   "outputs": [],
   "source": [
    "df = pd.read_csv('sarb_features_data.csv')\n",
    "df = df.fillna(method='ffill')\n",
    "df = df.fillna(0)\n"
   ]
  },
  {
   "cell_type": "code",
   "execution_count": 3,
   "metadata": {},
   "outputs": [],
   "source": [
    "def correlation(dataset, threshold):\n",
    "    col_corr = set() # Set of all the names of deleted columns\n",
    "    corr_matrix = dataset.corr()\n",
    "    for i in range(len(corr_matrix.columns)):\n",
    "        for j in range(i):\n",
    "            if (corr_matrix.iloc[i, j] >= threshold) and (corr_matrix.columns[j] not in col_corr):\n",
    "                colname = corr_matrix.columns[i] # getting the name of column\n",
    "                col_corr.add(colname)\n",
    "                if colname in dataset.columns:\n",
    "                    del dataset[colname] # deleting the column from the dataset"
   ]
  },
  {
   "cell_type": "code",
   "execution_count": null,
   "metadata": {},
   "outputs": [],
   "source": []
  },
  {
   "cell_type": "code",
   "execution_count": 4,
   "metadata": {
    "scrolled": true
   },
   "outputs": [
    {
     "name": "stdout",
     "output_type": "stream",
     "text": [
      "Date\n",
      "Final consumption expenditure by general government \n",
      "Consolidated general government: Revenue\n",
      "Foreign liabilities: Total portfolio investment \n",
      "Foreign liabilities: Portfolio investment: Equity securities\n",
      "Domestic output: All groups \n",
      "Final consumption expenditure by households: Total \n",
      "Gross fixed capital formation \n",
      "SDDS - Financial derivative liabilities\n",
      "Foreign liabilities: Portfolio investment: Debt securities\n",
      "Change in inventories \n",
      "Gross domestic product at market prices \n",
      "Foreign debt of S.A.: Total foreign debt \n",
      "Foreign exchange rate : SA rand per USA dollar \n",
      "Gross value added at basic prices of all industries \n",
      "Other domestic financial assets \n",
      "Gross value added at basic prices of other community, social and personal services \n",
      "Net Investment Position\n",
      "Foreign liabilities: Total other investment\n",
      "Gross value added at basic prices of general government services \n",
      "Foreign \n",
      "Total outstanding domestic non-marketable bills \n",
      "Financing by non-marketable bonds\n",
      "Total gross loan debt (nsa) \n",
      "Reserve Bank SDR reserves\n",
      "SDDS - Reserve Assest\n",
      "Foreign assets: Total other investment\n",
      "IMF reserve position \n",
      "Financial guarantees by government\n",
      "Total cash-flow revenue\n",
      "Total outstanding domestic non-marketable bonds\n",
      "Cash received from the issuance of other debt instruments less cash payments made to redeem other debt instruments, including non-marketable bills and bonds, and debt of the former TBVC-countries, self-governing territories and the Republic of Namibia that were assumed by the national government. \n",
      "Total outstanding domestic non-marketable debt\n",
      "Consolidated general government: Net change in the stock of cash_x\n",
      "Capital account: credit (nsa)\n",
      "Foreign assets: Portfolio investment: Debt securities\n",
      "Net errors and omissions\n",
      "Gross reserves of the Reserve Bank - US Dollar\n",
      "SDDS - Financial derivative assests\n",
      "Capital account: debit (nsa)\n",
      "Consolidated general government: Liabilities: Foreign: Currency and deposits\n",
      "Total outstanding domestic marketable loan levies\n",
      "Cash received from the issuance of domestic government bonds less cash payments made to redeem domestic government bonds.\n",
      "The net borrowing requirement of national government equals the net result of the cash-flow deficit/surplus and the cost of revaluation of foreign loans at redemption. \n",
      "Cash received from the issuance of foreign bonds and loans less cash payments made to redeem foreign bonds and loans.\n",
      "Total outstanding domestic marketable bonds: Not exceeding 1 year (incl SA housing trust loans i.e marketable SP05 bonds)\n",
      "Foreign assets: Total direct investment\n",
      "Reserve Bank other foreign exchange reserves\n",
      "Reserve assets\n",
      "Other investment, liabilities\n",
      "Reserve Bank gold reserves\n",
      "Total foreign assets\n",
      "Total outstanding domestic marketable bonds: Exceeding 1 but not 3 years\n",
      "Including changes in the Exchequer and Paymaster-General Account balances with the South African Reserve Bank and other banks.\n",
      "Cash received from the issuance of Treasury bills less cash payments made to redeem Treasury bills.\n",
      "Total outstanding domestic marketable bonds: Total exceeding 10 years\n",
      "Total outstanding domestic marketable debt \n",
      "Current account (nsa)\n",
      "Gross value added at basic prices of finance, insurance, real estate and business services \n",
      "Other reserve assets\n",
      "Foreign assets: Total portfolio investment\n",
      "Foreign assets: Portfolio investment: Equity securities\n",
      "Gross gold and other foreign reserves : Amount as at end of period \n",
      "Gross value added at basic prices of transport, storage and communication \n",
      "Goods: exports (nsa)\n",
      "The net result of all financing activities of national government.\n",
      "Total outstanding domestic marketable bonds: Medium term\n",
      "Plus: Accrual adjustment\n",
      "Consolidated general government: Liabilities: Domestic: Securities other than shares\n",
      "Total claims on the private sector\n",
      "Total foreign debt\n",
      "Gross value added at basic prices of electricity, gas and water \n",
      "Services: debit (nsa)\n",
      "Financial derivatives, liabilities\n",
      "Other investment, assets\n",
      "Income: credit (nsa)\n",
      "Gross value added at basic prices of manufacturing \n",
      "Total foreign marketable debt\n",
      "Total claims on the government\n",
      "Consolidated general government: Liabilities: Domestic: Currency and deposits\n",
      "Cost/profit of revaluation of foreign loans \n",
      "Consolidated general government: Liabilities\n",
      "The difference between cash-flow revenue and cash-flow expenditure._x\n",
      "Total outstanding domestic marketable bills\n",
      "Total outstanding foreign marketable bonds by unexpired maturity: Exceeding 1 but not 3 years\n",
      "Deposit of banks,mutual banks with the SARB and notes and coins outside the SARB and SA mint \n",
      "Gross value added at basic prices of construction (contractors) \n",
      "Imports of goods (SARS) \n",
      "Financial derivatives, assets\n",
      "Services: credit (nsa)\n",
      "Goods: imports (nsa)\n",
      "Portfolio investment, liabilities\n",
      "Exports of goods, including gold (SARS) \n",
      "Gross value added at basic prices of wholesale and retail trade, catering and accommodation \n",
      "Total foreign assets minus total foreign liabilities\n",
      "Total outstanding foreign marketable bonds by unexpired maturity: Not exceeding 1 year\n",
      "Total domestic marketable bonds\n",
      "The difference between cash-flow revenue and cash-flow expenditure._y\n",
      "Consolidated general government: Liabilities: Domestic\n",
      "Total outstanding domestic non-marketable loan levies\n",
      " Loans _x\n",
      "Consolidated general government: Net change in the stock of cash_y\n",
      "Total other debt \n",
      "Net foreign assets after valuation adjustment\n",
      "Value added at basic prices of mining and quarrying \n",
      "Financial account\n",
      "Income: debit (nsa)\n",
      "Total foreign liabilities \n",
      "Foreign liabilities: Total direct investment\n",
      "Current transfers: credit (nsa)\n",
      "Direct investment abroad\n",
      "Gross value added at basic prices of agriculture, forestry and fishing \n",
      "M2 plus all long term deposit with monetary banking institutions \n",
      "Gold and Foreign Exchange Contingency Reserve Account\n",
      "Consolidated general government: Liabilities: Foreign: Loans\n",
      " Loans _y\n",
      "Domestic non-marketable bonds by instrument type: Floating/variable rate bonds\n",
      "National government revenue adjusted for differences in timing between the recording of transactions and bank clearances. \n",
      "Consolidated general government: Liabilities: Domestic: Other domestic liabilities\n",
      "Claims on the domestic private sector\n",
      "Total foreign non-marketable debt \n",
      "Capital account (nsa)\n",
      "Portfolio investment, assets\n",
      "Direct investment in reporting economy\n",
      "Current transfers: debit (nsa)\n",
      "Total outstanding foreign marketable bonds by unexpired maturity: Exceeding 3 years\n",
      "Broad monetary credit to the government sector \n",
      "Consolidated general government: Liabilities: Foreign\n",
      "National government expenditure adjusted for differences between the recording of transactions and bank clearances, and late departmental requests/surrenders of funds. \n",
      "Consolidated general government: Net cash-flow from financing activities\n",
      "Exports of goods & services \n",
      "Total South African population\n",
      "The nominal effective exchange rate is a weighted exchange rate of the rand measured against a basket of the currencies of South Africa's twenty most important trading partners. The calculation is based on trade in and consumption of manufactured goo\n",
      "Imports of goods & services \n",
      "Consolidated general government: Net acquisition of financial assets other than cash\n",
      "The leading business cycle indicator is a composite index comprising of time series, which tend to shift direction in advance of the business cycle. Frequency = monthly. Currency = index (2015 = 100). The time series is seasonally adjusted.\n",
      "Loans \n",
      "Domestic \n",
      "Physical volume of manufacturing production: Total \n",
      "Remuneration per worker in non-agricultural: Total \n",
      "Consolidated general government: Non-financial assets - Net\n",
      "Consolidated general government: Cash surplus / deficit\n",
      "CPI Headline \n",
      "Gross domestic expenditure \n",
      "Net cash-flow from operating activities \n",
      "Non-agricultural employment: Total \n",
      "Consolidated general government: Expense\n",
      "Residual item \n",
      "unemployment rate\n"
     ]
    }
   ],
   "source": [
    "for i in df:\n",
    "    print(i)\n"
   ]
  },
  {
   "cell_type": "code",
   "execution_count": 5,
   "metadata": {},
   "outputs": [
    {
     "data": {
      "text/html": [
       "<div>\n",
       "<style scoped>\n",
       "    .dataframe tbody tr th:only-of-type {\n",
       "        vertical-align: middle;\n",
       "    }\n",
       "\n",
       "    .dataframe tbody tr th {\n",
       "        vertical-align: top;\n",
       "    }\n",
       "\n",
       "    .dataframe thead th {\n",
       "        text-align: right;\n",
       "    }\n",
       "</style>\n",
       "<table border=\"1\" class=\"dataframe\">\n",
       "  <thead>\n",
       "    <tr style=\"text-align: right;\">\n",
       "      <th></th>\n",
       "      <th>Date</th>\n",
       "      <th>unemployment rate</th>\n",
       "    </tr>\n",
       "  </thead>\n",
       "  <tbody>\n",
       "    <tr>\n",
       "      <th>0</th>\n",
       "      <td>1922-01-01</td>\n",
       "      <td>0.0</td>\n",
       "    </tr>\n",
       "    <tr>\n",
       "      <th>1</th>\n",
       "      <td>1922-02-01</td>\n",
       "      <td>0.0</td>\n",
       "    </tr>\n",
       "    <tr>\n",
       "      <th>2</th>\n",
       "      <td>1922-03-01</td>\n",
       "      <td>0.0</td>\n",
       "    </tr>\n",
       "    <tr>\n",
       "      <th>3</th>\n",
       "      <td>1922-04-01</td>\n",
       "      <td>0.0</td>\n",
       "    </tr>\n",
       "    <tr>\n",
       "      <th>4</th>\n",
       "      <td>1922-05-01</td>\n",
       "      <td>0.0</td>\n",
       "    </tr>\n",
       "  </tbody>\n",
       "</table>\n",
       "</div>"
      ],
      "text/plain": [
       "         Date  unemployment rate\n",
       "0  1922-01-01                0.0\n",
       "1  1922-02-01                0.0\n",
       "2  1922-03-01                0.0\n",
       "3  1922-04-01                0.0\n",
       "4  1922-05-01                0.0"
      ]
     },
     "execution_count": 5,
     "metadata": {},
     "output_type": "execute_result"
    }
   ],
   "source": [
    "df2 = pd.read_csv('sarb_target_data.csv')\n",
    "df2 = df2.fillna(method='ffill')\n",
    "df2 = df2.fillna(0)\n",
    "df2.head()"
   ]
  },
  {
   "cell_type": "markdown",
   "metadata": {},
   "source": [
    "## Factors affecting the GDP"
   ]
  },
  {
   "cell_type": "code",
   "execution_count": 6,
   "metadata": {
    "scrolled": true
   },
   "outputs": [
    {
     "data": {
      "text/html": [
       "<div>\n",
       "<style scoped>\n",
       "    .dataframe tbody tr th:only-of-type {\n",
       "        vertical-align: middle;\n",
       "    }\n",
       "\n",
       "    .dataframe tbody tr th {\n",
       "        vertical-align: top;\n",
       "    }\n",
       "\n",
       "    .dataframe thead th {\n",
       "        text-align: right;\n",
       "    }\n",
       "</style>\n",
       "<table border=\"1\" class=\"dataframe\">\n",
       "  <thead>\n",
       "    <tr style=\"text-align: right;\">\n",
       "      <th></th>\n",
       "      <th>Total cash-flow revenue</th>\n",
       "      <th>Cash received from the issuance of other debt instruments less cash payments made to redeem other debt instruments, including non-marketable bills and bonds, and debt of the former TBVC-countries, self-governing territories and the Republic of Namibia that were assumed by the national government.</th>\n",
       "      <th>Consolidated general government: Net change in the stock of cash_x</th>\n",
       "      <th>Cash received from the issuance of domestic government bonds less cash payments made to redeem domestic government bonds.</th>\n",
       "      <th>The net borrowing requirement of national government equals the net result of the cash-flow deficit/surplus and the cost of revaluation of foreign loans at redemption.</th>\n",
       "      <th>Cash received from the issuance of foreign bonds and loans less cash payments made to redeem foreign bonds and loans.</th>\n",
       "      <th>Cash received from the issuance of Treasury bills less cash payments made to redeem Treasury bills.</th>\n",
       "      <th>The difference between cash-flow revenue and cash-flow expenditure._x</th>\n",
       "      <th>The difference between cash-flow revenue and cash-flow expenditure._y</th>\n",
       "      <th>Consolidated general government: Net change in the stock of cash_y</th>\n",
       "      <th>Consolidated general government: Net cash-flow from financing activities</th>\n",
       "      <th>Consolidated general government: Net acquisition of financial assets other than cash</th>\n",
       "      <th>Net cash-flow from operating activities</th>\n",
       "    </tr>\n",
       "  </thead>\n",
       "  <tbody>\n",
       "    <tr>\n",
       "      <th>Total cash-flow revenue</th>\n",
       "      <td>1.000000</td>\n",
       "      <td>0.045413</td>\n",
       "      <td>-0.009204</td>\n",
       "      <td>0.000925</td>\n",
       "      <td>0.000196</td>\n",
       "      <td>-0.000327</td>\n",
       "      <td>-0.000243</td>\n",
       "      <td>0.000715</td>\n",
       "      <td>0.000556</td>\n",
       "      <td>-0.009204</td>\n",
       "      <td>-0.010853</td>\n",
       "      <td>0.002223</td>\n",
       "      <td>0.002001</td>\n",
       "    </tr>\n",
       "    <tr>\n",
       "      <th>Cash received from the issuance of other debt instruments less cash payments made to redeem other debt instruments, including non-marketable bills and bonds, and debt of the former TBVC-countries, self-governing territories and the Republic of Namibia that were assumed by the national government.</th>\n",
       "      <td>0.045413</td>\n",
       "      <td>1.000000</td>\n",
       "      <td>-0.325772</td>\n",
       "      <td>-0.358507</td>\n",
       "      <td>0.252946</td>\n",
       "      <td>-0.094151</td>\n",
       "      <td>-0.143875</td>\n",
       "      <td>0.318071</td>\n",
       "      <td>0.301414</td>\n",
       "      <td>-0.325772</td>\n",
       "      <td>-0.435979</td>\n",
       "      <td>0.417419</td>\n",
       "      <td>-0.052093</td>\n",
       "    </tr>\n",
       "    <tr>\n",
       "      <th>Consolidated general government: Net change in the stock of cash_x</th>\n",
       "      <td>-0.009204</td>\n",
       "      <td>-0.325772</td>\n",
       "      <td>1.000000</td>\n",
       "      <td>0.481191</td>\n",
       "      <td>-0.253038</td>\n",
       "      <td>0.096892</td>\n",
       "      <td>0.129455</td>\n",
       "      <td>-0.194082</td>\n",
       "      <td>-0.268188</td>\n",
       "      <td>1.000000</td>\n",
       "      <td>0.800407</td>\n",
       "      <td>-0.418167</td>\n",
       "      <td>0.257165</td>\n",
       "    </tr>\n",
       "    <tr>\n",
       "      <th>Cash received from the issuance of domestic government bonds less cash payments made to redeem domestic government bonds.</th>\n",
       "      <td>0.000925</td>\n",
       "      <td>-0.358507</td>\n",
       "      <td>0.481191</td>\n",
       "      <td>1.000000</td>\n",
       "      <td>-0.323322</td>\n",
       "      <td>0.025327</td>\n",
       "      <td>0.052737</td>\n",
       "      <td>-0.256631</td>\n",
       "      <td>-0.356623</td>\n",
       "      <td>0.481191</td>\n",
       "      <td>0.646838</td>\n",
       "      <td>-0.569547</td>\n",
       "      <td>-0.057152</td>\n",
       "    </tr>\n",
       "    <tr>\n",
       "      <th>The net borrowing requirement of national government equals the net result of the cash-flow deficit/surplus and the cost of revaluation of foreign loans at redemption.</th>\n",
       "      <td>0.000196</td>\n",
       "      <td>0.252946</td>\n",
       "      <td>-0.253038</td>\n",
       "      <td>-0.323322</td>\n",
       "      <td>1.000000</td>\n",
       "      <td>-0.021548</td>\n",
       "      <td>-0.464136</td>\n",
       "      <td>0.726462</td>\n",
       "      <td>0.915884</td>\n",
       "      <td>-0.253038</td>\n",
       "      <td>-0.406987</td>\n",
       "      <td>0.424241</td>\n",
       "      <td>0.023307</td>\n",
       "    </tr>\n",
       "    <tr>\n",
       "      <th>Cash received from the issuance of foreign bonds and loans less cash payments made to redeem foreign bonds and loans.</th>\n",
       "      <td>-0.000327</td>\n",
       "      <td>-0.094151</td>\n",
       "      <td>0.096892</td>\n",
       "      <td>0.025327</td>\n",
       "      <td>-0.021548</td>\n",
       "      <td>1.000000</td>\n",
       "      <td>-0.057659</td>\n",
       "      <td>-0.042988</td>\n",
       "      <td>-0.055764</td>\n",
       "      <td>0.096892</td>\n",
       "      <td>0.145956</td>\n",
       "      <td>-0.143389</td>\n",
       "      <td>-0.029964</td>\n",
       "    </tr>\n",
       "    <tr>\n",
       "      <th>Cash received from the issuance of Treasury bills less cash payments made to redeem Treasury bills.</th>\n",
       "      <td>-0.000243</td>\n",
       "      <td>-0.143875</td>\n",
       "      <td>0.129455</td>\n",
       "      <td>0.052737</td>\n",
       "      <td>-0.464136</td>\n",
       "      <td>-0.057659</td>\n",
       "      <td>1.000000</td>\n",
       "      <td>-0.372195</td>\n",
       "      <td>-0.290758</td>\n",
       "      <td>0.129455</td>\n",
       "      <td>0.133905</td>\n",
       "      <td>-0.146014</td>\n",
       "      <td>0.062814</td>\n",
       "    </tr>\n",
       "    <tr>\n",
       "      <th>The difference between cash-flow revenue and cash-flow expenditure._x</th>\n",
       "      <td>0.000715</td>\n",
       "      <td>0.318071</td>\n",
       "      <td>-0.194082</td>\n",
       "      <td>-0.256631</td>\n",
       "      <td>0.726462</td>\n",
       "      <td>-0.042988</td>\n",
       "      <td>-0.372195</td>\n",
       "      <td>1.000000</td>\n",
       "      <td>0.770534</td>\n",
       "      <td>-0.194082</td>\n",
       "      <td>-0.329999</td>\n",
       "      <td>0.366255</td>\n",
       "      <td>0.037869</td>\n",
       "    </tr>\n",
       "    <tr>\n",
       "      <th>The difference between cash-flow revenue and cash-flow expenditure._y</th>\n",
       "      <td>0.000556</td>\n",
       "      <td>0.301414</td>\n",
       "      <td>-0.268188</td>\n",
       "      <td>-0.356623</td>\n",
       "      <td>0.915884</td>\n",
       "      <td>-0.055764</td>\n",
       "      <td>-0.290758</td>\n",
       "      <td>0.770534</td>\n",
       "      <td>1.000000</td>\n",
       "      <td>-0.268188</td>\n",
       "      <td>-0.444297</td>\n",
       "      <td>0.471241</td>\n",
       "      <td>0.034094</td>\n",
       "    </tr>\n",
       "    <tr>\n",
       "      <th>Consolidated general government: Net change in the stock of cash_y</th>\n",
       "      <td>-0.009204</td>\n",
       "      <td>-0.325772</td>\n",
       "      <td>1.000000</td>\n",
       "      <td>0.481191</td>\n",
       "      <td>-0.253038</td>\n",
       "      <td>0.096892</td>\n",
       "      <td>0.129455</td>\n",
       "      <td>-0.194082</td>\n",
       "      <td>-0.268188</td>\n",
       "      <td>1.000000</td>\n",
       "      <td>0.800407</td>\n",
       "      <td>-0.418167</td>\n",
       "      <td>0.257165</td>\n",
       "    </tr>\n",
       "    <tr>\n",
       "      <th>Consolidated general government: Net cash-flow from financing activities</th>\n",
       "      <td>-0.010853</td>\n",
       "      <td>-0.435979</td>\n",
       "      <td>0.800407</td>\n",
       "      <td>0.646838</td>\n",
       "      <td>-0.406987</td>\n",
       "      <td>0.145956</td>\n",
       "      <td>0.133905</td>\n",
       "      <td>-0.329999</td>\n",
       "      <td>-0.444297</td>\n",
       "      <td>0.800407</td>\n",
       "      <td>1.000000</td>\n",
       "      <td>-0.696050</td>\n",
       "      <td>-0.215039</td>\n",
       "    </tr>\n",
       "    <tr>\n",
       "      <th>Consolidated general government: Net acquisition of financial assets other than cash</th>\n",
       "      <td>0.002223</td>\n",
       "      <td>0.417419</td>\n",
       "      <td>-0.418167</td>\n",
       "      <td>-0.569547</td>\n",
       "      <td>0.424241</td>\n",
       "      <td>-0.143389</td>\n",
       "      <td>-0.146014</td>\n",
       "      <td>0.366255</td>\n",
       "      <td>0.471241</td>\n",
       "      <td>-0.418167</td>\n",
       "      <td>-0.696050</td>\n",
       "      <td>1.000000</td>\n",
       "      <td>0.036099</td>\n",
       "    </tr>\n",
       "    <tr>\n",
       "      <th>Net cash-flow from operating activities</th>\n",
       "      <td>0.002001</td>\n",
       "      <td>-0.052093</td>\n",
       "      <td>0.257165</td>\n",
       "      <td>-0.057152</td>\n",
       "      <td>0.023307</td>\n",
       "      <td>-0.029964</td>\n",
       "      <td>0.062814</td>\n",
       "      <td>0.037869</td>\n",
       "      <td>0.034094</td>\n",
       "      <td>0.257165</td>\n",
       "      <td>-0.215039</td>\n",
       "      <td>0.036099</td>\n",
       "      <td>1.000000</td>\n",
       "    </tr>\n",
       "  </tbody>\n",
       "</table>\n",
       "</div>"
      ],
      "text/plain": [
       "                                                    Total cash-flow revenue  \\\n",
       "Total cash-flow revenue                                            1.000000   \n",
       "Cash received from the issuance of other debt i...                 0.045413   \n",
       "Consolidated general government: Net change in ...                -0.009204   \n",
       "Cash received from the issuance of domestic gov...                 0.000925   \n",
       "The net borrowing requirement of national gover...                 0.000196   \n",
       "Cash received from the issuance of foreign bond...                -0.000327   \n",
       "Cash received from the issuance of Treasury bil...                -0.000243   \n",
       "The difference between cash-flow revenue and ca...                 0.000715   \n",
       "The difference between cash-flow revenue and ca...                 0.000556   \n",
       "Consolidated general government: Net change in ...                -0.009204   \n",
       "Consolidated general government: Net cash-flow ...                -0.010853   \n",
       "Consolidated general government: Net acquisitio...                 0.002223   \n",
       "Net cash-flow from operating activities                            0.002001   \n",
       "\n",
       "                                                    Cash received from the issuance of other debt instruments less cash payments made to redeem other debt instruments, including non-marketable bills and bonds, and debt of the former TBVC-countries, self-governing territories and the Republic of Namibia that were assumed by the national government.   \\\n",
       "Total cash-flow revenue                                                                      0.045413                                                                                                                                                                                                                                                            \n",
       "Cash received from the issuance of other debt i...                                           1.000000                                                                                                                                                                                                                                                            \n",
       "Consolidated general government: Net change in ...                                          -0.325772                                                                                                                                                                                                                                                            \n",
       "Cash received from the issuance of domestic gov...                                          -0.358507                                                                                                                                                                                                                                                            \n",
       "The net borrowing requirement of national gover...                                           0.252946                                                                                                                                                                                                                                                            \n",
       "Cash received from the issuance of foreign bond...                                          -0.094151                                                                                                                                                                                                                                                            \n",
       "Cash received from the issuance of Treasury bil...                                          -0.143875                                                                                                                                                                                                                                                            \n",
       "The difference between cash-flow revenue and ca...                                           0.318071                                                                                                                                                                                                                                                            \n",
       "The difference between cash-flow revenue and ca...                                           0.301414                                                                                                                                                                                                                                                            \n",
       "Consolidated general government: Net change in ...                                          -0.325772                                                                                                                                                                                                                                                            \n",
       "Consolidated general government: Net cash-flow ...                                          -0.435979                                                                                                                                                                                                                                                            \n",
       "Consolidated general government: Net acquisitio...                                           0.417419                                                                                                                                                                                                                                                            \n",
       "Net cash-flow from operating activities                                                     -0.052093                                                                                                                                                                                                                                                            \n",
       "\n",
       "                                                    Consolidated general government: Net change in the stock of cash_x  \\\n",
       "Total cash-flow revenue                                                                     -0.009204                    \n",
       "Cash received from the issuance of other debt i...                                          -0.325772                    \n",
       "Consolidated general government: Net change in ...                                           1.000000                    \n",
       "Cash received from the issuance of domestic gov...                                           0.481191                    \n",
       "The net borrowing requirement of national gover...                                          -0.253038                    \n",
       "Cash received from the issuance of foreign bond...                                           0.096892                    \n",
       "Cash received from the issuance of Treasury bil...                                           0.129455                    \n",
       "The difference between cash-flow revenue and ca...                                          -0.194082                    \n",
       "The difference between cash-flow revenue and ca...                                          -0.268188                    \n",
       "Consolidated general government: Net change in ...                                           1.000000                    \n",
       "Consolidated general government: Net cash-flow ...                                           0.800407                    \n",
       "Consolidated general government: Net acquisitio...                                          -0.418167                    \n",
       "Net cash-flow from operating activities                                                      0.257165                    \n",
       "\n",
       "                                                    Cash received from the issuance of domestic government bonds less cash payments made to redeem domestic government bonds.  \\\n",
       "Total cash-flow revenue                                                                      0.000925                                                                           \n",
       "Cash received from the issuance of other debt i...                                          -0.358507                                                                           \n",
       "Consolidated general government: Net change in ...                                           0.481191                                                                           \n",
       "Cash received from the issuance of domestic gov...                                           1.000000                                                                           \n",
       "The net borrowing requirement of national gover...                                          -0.323322                                                                           \n",
       "Cash received from the issuance of foreign bond...                                           0.025327                                                                           \n",
       "Cash received from the issuance of Treasury bil...                                           0.052737                                                                           \n",
       "The difference between cash-flow revenue and ca...                                          -0.256631                                                                           \n",
       "The difference between cash-flow revenue and ca...                                          -0.356623                                                                           \n",
       "Consolidated general government: Net change in ...                                           0.481191                                                                           \n",
       "Consolidated general government: Net cash-flow ...                                           0.646838                                                                           \n",
       "Consolidated general government: Net acquisitio...                                          -0.569547                                                                           \n",
       "Net cash-flow from operating activities                                                     -0.057152                                                                           \n",
       "\n",
       "                                                    The net borrowing requirement of national government equals the net result of the cash-flow deficit/surplus and the cost of revaluation of foreign loans at redemption.   \\\n",
       "Total cash-flow revenue                                                                      0.000196                                                                                                                          \n",
       "Cash received from the issuance of other debt i...                                           0.252946                                                                                                                          \n",
       "Consolidated general government: Net change in ...                                          -0.253038                                                                                                                          \n",
       "Cash received from the issuance of domestic gov...                                          -0.323322                                                                                                                          \n",
       "The net borrowing requirement of national gover...                                           1.000000                                                                                                                          \n",
       "Cash received from the issuance of foreign bond...                                          -0.021548                                                                                                                          \n",
       "Cash received from the issuance of Treasury bil...                                          -0.464136                                                                                                                          \n",
       "The difference between cash-flow revenue and ca...                                           0.726462                                                                                                                          \n",
       "The difference between cash-flow revenue and ca...                                           0.915884                                                                                                                          \n",
       "Consolidated general government: Net change in ...                                          -0.253038                                                                                                                          \n",
       "Consolidated general government: Net cash-flow ...                                          -0.406987                                                                                                                          \n",
       "Consolidated general government: Net acquisitio...                                           0.424241                                                                                                                          \n",
       "Net cash-flow from operating activities                                                      0.023307                                                                                                                          \n",
       "\n",
       "                                                    Cash received from the issuance of foreign bonds and loans less cash payments made to redeem foreign bonds and loans.  \\\n",
       "Total cash-flow revenue                                                                     -0.000327                                                                       \n",
       "Cash received from the issuance of other debt i...                                          -0.094151                                                                       \n",
       "Consolidated general government: Net change in ...                                           0.096892                                                                       \n",
       "Cash received from the issuance of domestic gov...                                           0.025327                                                                       \n",
       "The net borrowing requirement of national gover...                                          -0.021548                                                                       \n",
       "Cash received from the issuance of foreign bond...                                           1.000000                                                                       \n",
       "Cash received from the issuance of Treasury bil...                                          -0.057659                                                                       \n",
       "The difference between cash-flow revenue and ca...                                          -0.042988                                                                       \n",
       "The difference between cash-flow revenue and ca...                                          -0.055764                                                                       \n",
       "Consolidated general government: Net change in ...                                           0.096892                                                                       \n",
       "Consolidated general government: Net cash-flow ...                                           0.145956                                                                       \n",
       "Consolidated general government: Net acquisitio...                                          -0.143389                                                                       \n",
       "Net cash-flow from operating activities                                                     -0.029964                                                                       \n",
       "\n",
       "                                                    Cash received from the issuance of Treasury bills less cash payments made to redeem Treasury bills.  \\\n",
       "Total cash-flow revenue                                                                     -0.000243                                                     \n",
       "Cash received from the issuance of other debt i...                                          -0.143875                                                     \n",
       "Consolidated general government: Net change in ...                                           0.129455                                                     \n",
       "Cash received from the issuance of domestic gov...                                           0.052737                                                     \n",
       "The net borrowing requirement of national gover...                                          -0.464136                                                     \n",
       "Cash received from the issuance of foreign bond...                                          -0.057659                                                     \n",
       "Cash received from the issuance of Treasury bil...                                           1.000000                                                     \n",
       "The difference between cash-flow revenue and ca...                                          -0.372195                                                     \n",
       "The difference between cash-flow revenue and ca...                                          -0.290758                                                     \n",
       "Consolidated general government: Net change in ...                                           0.129455                                                     \n",
       "Consolidated general government: Net cash-flow ...                                           0.133905                                                     \n",
       "Consolidated general government: Net acquisitio...                                          -0.146014                                                     \n",
       "Net cash-flow from operating activities                                                      0.062814                                                     \n",
       "\n",
       "                                                    The difference between cash-flow revenue and cash-flow expenditure._x  \\\n",
       "Total cash-flow revenue                                                                      0.000715                       \n",
       "Cash received from the issuance of other debt i...                                           0.318071                       \n",
       "Consolidated general government: Net change in ...                                          -0.194082                       \n",
       "Cash received from the issuance of domestic gov...                                          -0.256631                       \n",
       "The net borrowing requirement of national gover...                                           0.726462                       \n",
       "Cash received from the issuance of foreign bond...                                          -0.042988                       \n",
       "Cash received from the issuance of Treasury bil...                                          -0.372195                       \n",
       "The difference between cash-flow revenue and ca...                                           1.000000                       \n",
       "The difference between cash-flow revenue and ca...                                           0.770534                       \n",
       "Consolidated general government: Net change in ...                                          -0.194082                       \n",
       "Consolidated general government: Net cash-flow ...                                          -0.329999                       \n",
       "Consolidated general government: Net acquisitio...                                           0.366255                       \n",
       "Net cash-flow from operating activities                                                      0.037869                       \n",
       "\n",
       "                                                    The difference between cash-flow revenue and cash-flow expenditure._y  \\\n",
       "Total cash-flow revenue                                                                      0.000556                       \n",
       "Cash received from the issuance of other debt i...                                           0.301414                       \n",
       "Consolidated general government: Net change in ...                                          -0.268188                       \n",
       "Cash received from the issuance of domestic gov...                                          -0.356623                       \n",
       "The net borrowing requirement of national gover...                                           0.915884                       \n",
       "Cash received from the issuance of foreign bond...                                          -0.055764                       \n",
       "Cash received from the issuance of Treasury bil...                                          -0.290758                       \n",
       "The difference between cash-flow revenue and ca...                                           0.770534                       \n",
       "The difference between cash-flow revenue and ca...                                           1.000000                       \n",
       "Consolidated general government: Net change in ...                                          -0.268188                       \n",
       "Consolidated general government: Net cash-flow ...                                          -0.444297                       \n",
       "Consolidated general government: Net acquisitio...                                           0.471241                       \n",
       "Net cash-flow from operating activities                                                      0.034094                       \n",
       "\n",
       "                                                    Consolidated general government: Net change in the stock of cash_y  \\\n",
       "Total cash-flow revenue                                                                     -0.009204                    \n",
       "Cash received from the issuance of other debt i...                                          -0.325772                    \n",
       "Consolidated general government: Net change in ...                                           1.000000                    \n",
       "Cash received from the issuance of domestic gov...                                           0.481191                    \n",
       "The net borrowing requirement of national gover...                                          -0.253038                    \n",
       "Cash received from the issuance of foreign bond...                                           0.096892                    \n",
       "Cash received from the issuance of Treasury bil...                                           0.129455                    \n",
       "The difference between cash-flow revenue and ca...                                          -0.194082                    \n",
       "The difference between cash-flow revenue and ca...                                          -0.268188                    \n",
       "Consolidated general government: Net change in ...                                           1.000000                    \n",
       "Consolidated general government: Net cash-flow ...                                           0.800407                    \n",
       "Consolidated general government: Net acquisitio...                                          -0.418167                    \n",
       "Net cash-flow from operating activities                                                      0.257165                    \n",
       "\n",
       "                                                    Consolidated general government: Net cash-flow from financing activities  \\\n",
       "Total cash-flow revenue                                                                     -0.010853                          \n",
       "Cash received from the issuance of other debt i...                                          -0.435979                          \n",
       "Consolidated general government: Net change in ...                                           0.800407                          \n",
       "Cash received from the issuance of domestic gov...                                           0.646838                          \n",
       "The net borrowing requirement of national gover...                                          -0.406987                          \n",
       "Cash received from the issuance of foreign bond...                                           0.145956                          \n",
       "Cash received from the issuance of Treasury bil...                                           0.133905                          \n",
       "The difference between cash-flow revenue and ca...                                          -0.329999                          \n",
       "The difference between cash-flow revenue and ca...                                          -0.444297                          \n",
       "Consolidated general government: Net change in ...                                           0.800407                          \n",
       "Consolidated general government: Net cash-flow ...                                           1.000000                          \n",
       "Consolidated general government: Net acquisitio...                                          -0.696050                          \n",
       "Net cash-flow from operating activities                                                     -0.215039                          \n",
       "\n",
       "                                                    Consolidated general government: Net acquisition of financial assets other than cash  \\\n",
       "Total cash-flow revenue                                                                      0.002223                                      \n",
       "Cash received from the issuance of other debt i...                                           0.417419                                      \n",
       "Consolidated general government: Net change in ...                                          -0.418167                                      \n",
       "Cash received from the issuance of domestic gov...                                          -0.569547                                      \n",
       "The net borrowing requirement of national gover...                                           0.424241                                      \n",
       "Cash received from the issuance of foreign bond...                                          -0.143389                                      \n",
       "Cash received from the issuance of Treasury bil...                                          -0.146014                                      \n",
       "The difference between cash-flow revenue and ca...                                           0.366255                                      \n",
       "The difference between cash-flow revenue and ca...                                           0.471241                                      \n",
       "Consolidated general government: Net change in ...                                          -0.418167                                      \n",
       "Consolidated general government: Net cash-flow ...                                          -0.696050                                      \n",
       "Consolidated general government: Net acquisitio...                                           1.000000                                      \n",
       "Net cash-flow from operating activities                                                      0.036099                                      \n",
       "\n",
       "                                                    Net cash-flow from operating activities   \n",
       "Total cash-flow revenue                                                             0.002001  \n",
       "Cash received from the issuance of other debt i...                                 -0.052093  \n",
       "Consolidated general government: Net change in ...                                  0.257165  \n",
       "Cash received from the issuance of domestic gov...                                 -0.057152  \n",
       "The net borrowing requirement of national gover...                                  0.023307  \n",
       "Cash received from the issuance of foreign bond...                                 -0.029964  \n",
       "Cash received from the issuance of Treasury bil...                                  0.062814  \n",
       "The difference between cash-flow revenue and ca...                                  0.037869  \n",
       "The difference between cash-flow revenue and ca...                                  0.034094  \n",
       "Consolidated general government: Net change in ...                                  0.257165  \n",
       "Consolidated general government: Net cash-flow ...                                 -0.215039  \n",
       "Consolidated general government: Net acquisitio...                                  0.036099  \n",
       "Net cash-flow from operating activities                                             1.000000  "
      ]
     },
     "execution_count": 6,
     "metadata": {},
     "output_type": "execute_result"
    }
   ],
   "source": [
    "#how does cash exchange affect employment?\n",
    "df_GDP = list()\n",
    "for i in df:\n",
    "    if 'cash' in i:\n",
    "        df_GDP.append(df[i])\n",
    "\n",
    "df_GDP ##7 //cash\n",
    "\n",
    "DF = pd.DataFrame(data = df_GDP)\n",
    "X = DF.transpose()   \n",
    "X.corr()"
   ]
  },
  {
   "cell_type": "code",
   "execution_count": 7,
   "metadata": {},
   "outputs": [
    {
     "data": {
      "text/plain": [
       "Index(['Total outstanding domestic non-marketable bills ',\n",
       "       'Total outstanding domestic non-marketable bonds',\n",
       "       'Total outstanding domestic non-marketable debt',\n",
       "       'Total outstanding domestic marketable loan levies',\n",
       "       'Total outstanding domestic marketable bonds: Not exceeding 1 year (incl SA housing trust loans i.e marketable SP05 bonds)',\n",
       "       'Total outstanding domestic marketable bonds: Exceeding 1 but not 3 years',\n",
       "       'Total outstanding domestic marketable bonds: Total exceeding 10 years',\n",
       "       'Total outstanding domestic marketable debt ',\n",
       "       'Total outstanding domestic marketable bonds: Medium term',\n",
       "       'Total outstanding domestic marketable bills',\n",
       "       'Total outstanding foreign marketable bonds by unexpired maturity: Exceeding 1 but not 3 years',\n",
       "       'Total outstanding foreign marketable bonds by unexpired maturity: Not exceeding 1 year',\n",
       "       'Total outstanding domestic non-marketable loan levies',\n",
       "       'Total outstanding foreign marketable bonds by unexpired maturity: Exceeding 3 years'],\n",
       "      dtype='object')"
      ]
     },
     "execution_count": 7,
     "metadata": {},
     "output_type": "execute_result"
    }
   ],
   "source": [
    "#\n",
    "df_Consolidated = list()\n",
    "for i in df:\n",
    "    if 'outstanding' in i:\n",
    "        df_Consolidated.append(df[i])\n",
    "df_Consolidated #11\n",
    "\n",
    "\n",
    "DF1 = pd.DataFrame(data = df_Consolidated)\n",
    "X1 = DF1.transpose()   \n",
    "correlation(X, 0.7)\n",
    "X1.columns"
   ]
  },
  {
   "cell_type": "code",
   "execution_count": 8,
   "metadata": {
    "scrolled": true
   },
   "outputs": [],
   "source": [
    "#investigate the ralationship between investment and unemployement rate \n",
    "df_Foreign = list()\n",
    "for i in df:\n",
    "    if 'nvestm' in i:\n",
    "        df_Foreign.append(df[i])\n",
    "df_Foreign #8\n",
    "\n",
    "\n",
    "DF2 = pd.DataFrame(data = df_Foreign)\n",
    "X2 = DF2.transpose()   \n",
    "correlation(X2, 0.5)"
   ]
  },
  {
   "cell_type": "code",
   "execution_count": 9,
   "metadata": {},
   "outputs": [
    {
     "data": {
      "text/plain": [
       "['Other domestic financial assets ',\n",
       " 'Foreign assets: Total other investment',\n",
       " 'Foreign assets: Portfolio investment: Debt securities',\n",
       " 'Foreign assets: Total direct investment',\n",
       " 'Reserve assets',\n",
       " 'Total foreign assets',\n",
       " 'Other reserve assets',\n",
       " 'Foreign assets: Total portfolio investment',\n",
       " 'Foreign assets: Portfolio investment: Equity securities',\n",
       " 'Other investment, assets',\n",
       " 'Financial derivatives, assets',\n",
       " 'Total foreign assets minus total foreign liabilities',\n",
       " 'Net foreign assets after valuation adjustment',\n",
       " 'Portfolio investment, assets',\n",
       " 'Consolidated general government: Net acquisition of financial assets other than cash',\n",
       " 'Consolidated general government: Non-financial assets - Net']"
      ]
     },
     "execution_count": 9,
     "metadata": {},
     "output_type": "execute_result"
    }
   ],
   "source": [
    "df_out = list()\n",
    "for i in df:\n",
    "    if 'assets' in i:\n",
    "        df_out.append(i)\n",
    "df_out #7"
   ]
  },
  {
   "cell_type": "markdown",
   "metadata": {},
   "source": [
    "# START HERE"
   ]
  },
  {
   "cell_type": "code",
   "execution_count": 10,
   "metadata": {},
   "outputs": [],
   "source": [
    "predictors = df.drop(columns= ['unemployment rate']).set_index('Date')"
   ]
  },
  {
   "cell_type": "code",
   "execution_count": 11,
   "metadata": {},
   "outputs": [],
   "source": [
    "def calculate_vif_(X, thresh=10):\n",
    "\n",
    "    cols = X.columns\n",
    "    variables = np.arange(X.shape[1])\n",
    "    dropped=True\n",
    "    while dropped:\n",
    "        dropped=False\n",
    "        c = X[cols[variables]].values\n",
    "        vif = [variance_inflation_factor(c, ix) for ix in np.arange(c.shape[1])]\n",
    "\n",
    "        maxloc = vif.index(max(vif))\n",
    "        if max(vif) > thresh:\n",
    "            print('dropping \\'' + X[cols[variables]].columns[maxloc] + '\\' at index: ' + str(maxloc))\n",
    "            variables = np.delete(variables, maxloc)\n",
    "            dropped=True\n",
    "\n",
    "    remaining=cols[variables]\n",
    "    return remaining"
   ]
  },
  {
   "cell_type": "code",
   "execution_count": 12,
   "metadata": {},
   "outputs": [],
   "source": [
    "def remove_inflated_variables(data,sample_size,print_out=True):\n",
    "\n",
    "    sample_train=resample(data,n_samples=sample_size)\n",
    "    #sample_dummy_mod = sample_train.drop(['Salary','Year'], axis = 1)\n",
    "    remaining=calculate_vif_(sample_train)\n",
    "    return remaining"
   ]
  },
  {
   "cell_type": "code",
   "execution_count": 13,
   "metadata": {},
   "outputs": [
    {
     "name": "stdout",
     "output_type": "stream",
     "text": [
      "dropping 'Consolidated general government: Net change in the stock of cash_x' at index: 32\n",
      "dropping 'Reserve assets' at index: 46\n",
      "dropping 'Consolidated general government: Liabilities' at index: 78\n",
      "dropping 'Consolidated general government: Revenue' at index: 1\n",
      "dropping 'Gross domestic expenditure ' at index: 138\n",
      "dropping 'Consolidated general government: Liabilities: Domestic' at index: 93\n",
      "dropping 'Domestic ' at index: 131\n",
      "dropping 'Consolidated general government: Net cash-flow from financing activities' at index: 123\n",
      "dropping 'Total gross loan debt (nsa) ' at index: 21\n",
      "dropping 'Consolidated general government: Non-financial assets - Net' at index: 131\n",
      "dropping 'Total foreign debt' at index: 65\n",
      "dropping 'National government expenditure adjusted for differences between the recording of transactions and bank clearances, and late departmental requests/surrenders of funds. ' at index: 120\n",
      "dropping 'Total outstanding domestic marketable debt ' at index: 51\n",
      "dropping 'Gross domestic product at market prices ' at index: 9\n",
      "dropping 'Foreign assets: Total portfolio investment' at index: 53\n",
      "dropping 'Total foreign assets' at index: 45\n",
      "dropping 'Total outstanding domestic non-marketable debt' at index: 28\n",
      "dropping 'Foreign liabilities: Total portfolio investment ' at index: 1\n",
      "dropping 'Total foreign liabilities ' at index: 93\n",
      "dropping 'Gross value added at basic prices of all industries ' at index: 10\n",
      "dropping 'SDDS - Financial derivative liabilities' at index: 5\n",
      "dropping 'Financial derivatives, liabilities' at index: 59\n",
      "dropping 'Final consumption expenditure by households: Total ' at index: 3\n",
      "dropping 'Total foreign marketable debt' at index: 61\n",
      "dropping 'Goods: imports (nsa)' at index: 72\n",
      "dropping 'Claims on the domestic private sector' at index: 98\n",
      "dropping 'Foreign liabilities: Total direct investment' at index: 87\n",
      "dropping 'Services: debit (nsa)' at index: 57\n",
      "dropping 'Total domestic marketable bonds' at index: 76\n",
      "dropping 'Services: credit (nsa)' at index: 70\n",
      "dropping 'Gross value added at basic prices of finance, insurance, real estate and business services ' at index: 45\n",
      "dropping 'The net borrowing requirement of national government equals the net result of the cash-flow deficit/surplus and the cost of revaluation of foreign loans at redemption. ' at index: 33\n",
      "dropping 'Gross gold and other foreign reserves : Amount as at end of period ' at index: 46\n",
      "dropping 'M2 plus all long term deposit with monetary banking institutions ' at index: 84\n",
      "dropping 'Remuneration per worker in non-agricultural: Total ' at index: 106\n",
      "dropping 'Foreign assets: Portfolio investment: Equity securities' at index: 45\n",
      "dropping 'Consolidated general government: Liabilities: Domestic: Securities other than shares' at index: 50\n",
      "dropping 'SDDS - Reserve Assest' at index: 17\n",
      "dropping 'Gross value added at basic prices of manufacturing ' at index: 53\n",
      "dropping 'The net result of all financing activities of national government.' at index: 46\n",
      "dropping 'Gross value added at basic prices of transport, storage and communication ' at index: 44\n",
      "dropping 'Foreign liabilities: Portfolio investment: Debt securities' at index: 4\n",
      "dropping 'The difference between cash-flow revenue and cash-flow expenditure._y' at index: 65\n",
      "dropping 'Foreign debt of S.A.: Total foreign debt ' at index: 5\n",
      "dropping 'Gross value added at basic prices of general government services ' at index: 10\n",
      "dropping 'Gross value added at basic prices of wholesale and retail trade, catering and accommodation ' at index: 60\n",
      "dropping 'Current transfers: credit (nsa)' at index: 70\n",
      "dropping 'Deposit of banks,mutual banks with the SARB and notes and coins outside the SARB and SA mint ' at index: 54\n",
      "dropping 'Gross fixed capital formation ' at index: 3\n",
      "dropping 'Gross value added at basic prices of electricity, gas and water ' at index: 44\n",
      "dropping 'Financial account' at index: 65\n",
      "dropping 'Goods: exports (nsa)' at index: 40\n",
      "dropping 'Consolidated general government: Expense' at index: 93\n",
      "dropping 'Total foreign assets minus total foreign liabilities' at index: 56\n",
      "dropping 'Foreign liabilities: Portfolio investment: Equity securities' at index: 1\n",
      "dropping 'Total outstanding domestic marketable bonds: Total exceeding 10 years' at index: 36\n",
      "dropping 'Final consumption expenditure by general government ' at index: 0\n",
      "dropping 'CPI Headline ' at index: 86\n",
      "dropping 'Reserve Bank other foreign exchange reserves' at index: 29\n",
      "dropping 'Imports of goods & services ' at index: 79\n",
      "dropping 'Total outstanding domestic marketable bills' at index: 45\n",
      "dropping 'Foreign assets: Total direct investment' at index: 28\n",
      "dropping 'Gross value added at basic prices of other community, social and personal services ' at index: 4\n",
      "dropping 'Exports of goods & services ' at index: 73\n",
      "dropping 'Total outstanding foreign marketable bonds by unexpired maturity: Exceeding 3 years' at index: 70\n",
      "dropping 'Income: debit (nsa)' at index: 56\n",
      "dropping 'Gross reserves of the Reserve Bank - US Dollar' at index: 19\n",
      "dropping 'Consolidated general government: Liabilities: Foreign: Loans' at index: 58\n",
      "dropping 'Total South African population' at index: 69\n",
      "dropping 'Financial guarantees by government' at index: 12\n",
      "dropping 'Reserve Bank gold reserves' at index: 26\n",
      "dropping 'Capital account: credit (nsa)' at index: 15\n",
      "dropping 'Foreign liabilities: Total other investment' at index: 5\n",
      "dropping 'Gross value added at basic prices of construction (contractors) ' at index: 39\n",
      "dropping 'Non-agricultural employment: Total ' at index: 71\n",
      "dropping 'Exports of goods, including gold (SARS) ' at index: 42\n",
      "dropping 'The leading business cycle indicator is a composite index comprising of time series, which tend to shift direction in advance of the business cycle. Frequency = monthly. Currency = index (2015 = 100). The time series is seasonally adjusted.' at index: 65\n",
      "dropping 'Foreign assets: Portfolio investment: Debt securities' at index: 14\n",
      "dropping 'Consolidated general government: Cash surplus / deficit' at index: 66\n",
      "dropping 'Total outstanding domestic marketable bonds: Medium term' at index: 28\n",
      "dropping 'Current transfers: debit (nsa)' at index: 58\n",
      "dropping 'Foreign assets: Total other investment' at index: 9\n",
      "dropping 'IMF reserve position ' at index: 9\n",
      "dropping 'Total outstanding domestic non-marketable bonds' at index: 10\n",
      "dropping 'Consolidated general government: Net change in the stock of cash_y' at index: 40\n",
      "dropping 'Domestic output: All groups ' at index: 0\n",
      "dropping 'Income: credit (nsa)' at index: 27\n",
      "dropping 'National government revenue adjusted for differences in timing between the recording of transactions and bank clearances. ' at index: 46\n",
      "dropping 'Physical volume of manufacturing production: Total ' at index: 56\n",
      "dropping 'Gross value added at basic prices of agriculture, forestry and fishing ' at index: 42\n",
      "dropping 'Portfolio investment, liabilities' at index: 34\n",
      "dropping 'Broad monetary credit to the government sector ' at index: 49\n",
      "dropping 'Consolidated general government: Net acquisition of financial assets other than cash' at index: 51\n",
      "dropping 'Total claims on the government' at index: 27\n",
      "dropping 'Gold and Foreign Exchange Contingency Reserve Account' at index: 40\n",
      "dropping 'Reserve Bank SDR reserves' at index: 7\n",
      "dropping 'Value added at basic prices of mining and quarrying ' at index: 37\n",
      "dropping 'Imports of goods (SARS) ' at index: 30\n",
      "dropping 'Financial derivatives, assets' at index: 30\n",
      "dropping 'Total outstanding domestic marketable bonds: Exceeding 1 but not 3 years' at index: 18\n",
      "dropping 'Current account (nsa)' at index: 20\n",
      "dropping 'Total foreign non-marketable debt ' at index: 37\n",
      "dropping 'Portfolio investment, assets' at index: 38\n",
      "dropping 'Total outstanding domestic non-marketable bills ' at index: 5\n"
     ]
    }
   ],
   "source": [
    "remaining=remove_inflated_variables(predictors,300)\n"
   ]
  },
  {
   "cell_type": "code",
   "execution_count": 90,
   "metadata": {},
   "outputs": [],
   "source": [
    "# remaining"
   ]
  },
  {
   "cell_type": "markdown",
   "metadata": {},
   "source": [
    "## 4. Investigating the relationship between governments profits/losses on investments and unemployment rate in South Africa: Do investment returns affect the employment?"
   ]
  },
  {
   "cell_type": "markdown",
   "metadata": {},
   "source": [
    "Features about the government's investments were collected from the remaining features with no multi collinearity"
   ]
  },
  {
   "cell_type": "code",
   "execution_count": 91,
   "metadata": {},
   "outputs": [],
   "source": [
    "def get_inv_features(a, b):\n",
    "    df_new = list()\n",
    "\n",
    "    for i in remaining:\n",
    "        if a in i:\n",
    "            df_new.append(df[i])\n",
    "            print(i)\n",
    "        if b in i:\n",
    "            df_new.append(df[i])\n",
    "            print(i)\n",
    "    return df_new"
   ]
  },
  {
   "cell_type": "code",
   "execution_count": 50,
   "metadata": {},
   "outputs": [
    {
     "name": "stdout",
     "output_type": "stream",
     "text": [
      "Net Investment Position\n",
      "Other investment, liabilities\n",
      "Other investment, assets\n",
      "Cost/profit of revaluation of foreign loans \n",
      "Direct investment abroad\n",
      "Direct investment in reporting economy\n"
     ]
    }
   ],
   "source": [
    "df_inv = get_inv_features('evalua', 'nvest') \n",
    "DF_INV = pd.DataFrame(data = df_inv)"
   ]
  },
  {
   "cell_type": "code",
   "execution_count": 52,
   "metadata": {},
   "outputs": [
    {
     "data": {
      "text/plain": [
       "['Net Investment Position',\n",
       " 'Other investment, liabilities',\n",
       " 'Other investment, assets',\n",
       " 'Cost/profit of revaluation of foreign loans ',\n",
       " 'Direct investment abroad',\n",
       " 'Direct investment in reporting economy']"
      ]
     },
     "execution_count": 52,
     "metadata": {},
     "output_type": "execute_result"
    }
   ],
   "source": [
    "X_INV= DF_INV.transpose()\n",
    "df2 = df2.rename(columns={'unemployment rate':'unemployment_rate'})\n",
    "y_inv = df2['unemployment_rate']\n",
    "X_INV.columns.tolist()"
   ]
  },
  {
   "cell_type": "code",
   "execution_count": 53,
   "metadata": {},
   "outputs": [],
   "source": [
    "def wordopt(text):\n",
    "    text = text.lower() \n",
    "    text = re.sub('\\[.*?\\]', '', text)\n",
    "    text = re.sub(\"\\\\W\",\" \",text) \n",
    "    text = re.sub('https?://\\S+|www\\.\\S+', '', text)\n",
    "    text = re.sub('<.*?>+', '', text)\n",
    "    text = re.sub('[%s]' % re.escape(string.punctuation), '', text)\n",
    "    text = re.sub('\\n', '', text)\n",
    "    text = re.sub('\\w*\\d\\w*', '', text)\n",
    "    return text"
   ]
  },
  {
   "cell_type": "code",
   "execution_count": 55,
   "metadata": {},
   "outputs": [
    {
     "data": {
      "text/html": [
       "<div>\n",
       "<style scoped>\n",
       "    .dataframe tbody tr th:only-of-type {\n",
       "        vertical-align: middle;\n",
       "    }\n",
       "\n",
       "    .dataframe tbody tr th {\n",
       "        vertical-align: top;\n",
       "    }\n",
       "\n",
       "    .dataframe thead th {\n",
       "        text-align: right;\n",
       "    }\n",
       "</style>\n",
       "<table border=\"1\" class=\"dataframe\">\n",
       "  <thead>\n",
       "    <tr style=\"text-align: right;\">\n",
       "      <th></th>\n",
       "      <th>netinvestmentposition</th>\n",
       "      <th>otherinvestmentliabilities</th>\n",
       "      <th>otherinvestmentassets</th>\n",
       "      <th>costprofitofrevaluationofforeignloans</th>\n",
       "      <th>directinvestmentabroad</th>\n",
       "      <th>directinvestmentinreportingeconomy</th>\n",
       "    </tr>\n",
       "  </thead>\n",
       "  <tbody>\n",
       "    <tr>\n",
       "      <th>875</th>\n",
       "      <td>0.0</td>\n",
       "      <td>-128.0</td>\n",
       "      <td>-1612.0</td>\n",
       "      <td>0.0</td>\n",
       "      <td>-106.0</td>\n",
       "      <td>-279.0</td>\n",
       "    </tr>\n",
       "    <tr>\n",
       "      <th>728</th>\n",
       "      <td>-12.0</td>\n",
       "      <td>0.0</td>\n",
       "      <td>0.0</td>\n",
       "      <td>0.0</td>\n",
       "      <td>0.0</td>\n",
       "      <td>0.0</td>\n",
       "    </tr>\n",
       "    <tr>\n",
       "      <th>713</th>\n",
       "      <td>0.0</td>\n",
       "      <td>0.0</td>\n",
       "      <td>0.0</td>\n",
       "      <td>0.0</td>\n",
       "      <td>0.0</td>\n",
       "      <td>0.0</td>\n",
       "    </tr>\n",
       "    <tr>\n",
       "      <th>402</th>\n",
       "      <td>0.0</td>\n",
       "      <td>0.0</td>\n",
       "      <td>0.0</td>\n",
       "      <td>0.0</td>\n",
       "      <td>0.0</td>\n",
       "      <td>0.0</td>\n",
       "    </tr>\n",
       "    <tr>\n",
       "      <th>1192</th>\n",
       "      <td>-209.0</td>\n",
       "      <td>3625.0</td>\n",
       "      <td>3671.0</td>\n",
       "      <td>1.0</td>\n",
       "      <td>1207.0</td>\n",
       "      <td>-3877.0</td>\n",
       "    </tr>\n",
       "  </tbody>\n",
       "</table>\n",
       "</div>"
      ],
      "text/plain": [
       "      netinvestmentposition  otherinvestmentliabilities  \\\n",
       "875                     0.0                      -128.0   \n",
       "728                   -12.0                         0.0   \n",
       "713                     0.0                         0.0   \n",
       "402                     0.0                         0.0   \n",
       "1192                 -209.0                      3625.0   \n",
       "\n",
       "      otherinvestmentassets  costprofitofrevaluationofforeignloans  \\\n",
       "875                 -1612.0                                    0.0   \n",
       "728                     0.0                                    0.0   \n",
       "713                     0.0                                    0.0   \n",
       "402                     0.0                                    0.0   \n",
       "1192                 3671.0                                    1.0   \n",
       "\n",
       "      directinvestmentabroad  directinvestmentinreportingeconomy  \n",
       "875                   -106.0                              -279.0  \n",
       "728                      0.0                                 0.0  \n",
       "713                      0.0                                 0.0  \n",
       "402                      0.0                                 0.0  \n",
       "1192                  1207.0                             -3877.0  "
      ]
     },
     "execution_count": 55,
     "metadata": {},
     "output_type": "execute_result"
    }
   ],
   "source": [
    "for col in X_INV.columns:\n",
    "    new_w = wordopt(col)\n",
    "    X_INV.rename(columns= {col: new_w.replace(' ', '')}, inplace = True)\n",
    "X_train_inv, X_test_inv, y_train_inv, y_test_inv = train_test_split(X_INV,y_inv, test_size = 0.3, random_state = 0)\n",
    "X_train_inv.head()"
   ]
  },
  {
   "cell_type": "code",
   "execution_count": 56,
   "metadata": {},
   "outputs": [],
   "source": [
    "def invest_model_fit(X_fit,y_fit):    \n",
    "    feature_list=np.arange(1, len(X_train_inv.columns))            \n",
    "    high_score=0\n",
    "    optimum_no_features=0           \n",
    "    score_list =[]\n",
    "    for n in range(len(feature_list)):\n",
    "        model = LinearRegression()\n",
    "        rfe = RFE(model,feature_list[n])\n",
    "        X_train_rfe = rfe.fit_transform(X_train_inv,y_train_inv)\n",
    "        model.fit(X_train_rfe,y_train_inv)\n",
    "\n",
    "        score = r2_score(y_fit, model.predict(X_train_rfe))\n",
    "        score_list.append(score)\n",
    "\n",
    "        if(score>high_score):\n",
    "            high_score = score  \n",
    "            optimum_no_features = feature_list[n]\n",
    "    return score_list, optimum_no_features \n"
   ]
  },
  {
   "cell_type": "code",
   "execution_count": 57,
   "metadata": {},
   "outputs": [
    {
     "name": "stdout",
     "output_type": "stream",
     "text": [
      "Number of features selected: 5\n"
     ]
    }
   ],
   "source": [
    "scores_list, optimum_no_features = invest_model_fit(X_train_inv,y_train_inv)\n",
    "print(\"Number of features selected:\",optimum_no_features)"
   ]
  },
  {
   "cell_type": "code",
   "execution_count": 58,
   "metadata": {},
   "outputs": [
    {
     "data": {
      "image/png": "[encoded data removed]",
      "text/plain": [
       "<Figure size 432x288 with 1 Axes>"
      ]
     },
     "metadata": {
      "needs_background": "light"
     },
     "output_type": "display_data"
    }
   ],
   "source": [
    "def plt_plot(values,title, x_label, y_label):\n",
    "    \n",
    "    plt.plot(values)\n",
    "    plt.title(title)\n",
    "    plt.ylabel(y_label)\n",
    "    plt.xlabel(x_label)\n",
    "plt_plot(scores_list, 'Score vs Number of varibales selected','Number of variables', 'Score')"
   ]
  },
  {
   "cell_type": "markdown",
   "metadata": {},
   "source": [
    "The r squared scores seem to be increasing for the selected investment features. The scores remain less that 0.4 probably because of the small number of features used"
   ]
  },
  {
   "cell_type": "code",
   "execution_count": 61,
   "metadata": {},
   "outputs": [],
   "source": [
    "def final_inv_model(n, X_final_inv, y_final_inv):\n",
    "    cols = list(X_INV.columns)\n",
    "    model = LinearRegression()\n",
    "    n = 6\n",
    "    #Initializing RFE model\n",
    "    rfe = RFE(model, n)             \n",
    "    #Transforming data using RFE\n",
    "    x_fitted = rfe.fit_transform(X_final_inv,y_final_inv)  \n",
    "    #Fitting the data to model\n",
    "    model.fit(x_fitted,y_final_inv)              \n",
    "    temp = pd.Series(rfe.support_,index = cols)\n",
    "    selected_features = temp[temp==True].index\n",
    "    return selected_features, model, rfe"
   ]
  },
  {
   "cell_type": "code",
   "execution_count": 62,
   "metadata": {
    "scrolled": true
   },
   "outputs": [
    {
     "data": {
      "text/plain": [
       "['netinvestmentposition',\n",
       " 'otherinvestmentliabilities',\n",
       " 'otherinvestmentassets',\n",
       " 'costprofitofrevaluationofforeignloans',\n",
       " 'directinvestmentabroad',\n",
       " 'directinvestmentinreportingeconomy']"
      ]
     },
     "execution_count": 62,
     "metadata": {},
     "output_type": "execute_result"
    }
   ],
   "source": [
    "selected_inv_features, inv_model, inv_rfe = final_inv_model(optimum_no_features, X_train_inv, y_train_inv)\n",
    "selected_inv_features.tolist()"
   ]
  },
  {
   "cell_type": "code",
   "execution_count": 67,
   "metadata": {},
   "outputs": [],
   "source": [
    "y_train_inv_predicted = inv_model.predict(inv_rfe.transform((X_train_inv)))"
   ]
  },
  {
   "cell_type": "markdown",
   "metadata": {},
   "source": [
    "## Residual Analysis"
   ]
  },
  {
   "cell_type": "code",
   "execution_count": 68,
   "metadata": {},
   "outputs": [
    {
     "data": {
      "text/plain": [
       "<matplotlib.axes._subplots.AxesSubplot at 0x1d841bf7da0>"
      ]
     },
     "execution_count": 68,
     "metadata": {},
     "output_type": "execute_result"
    },
    {
     "data": {
      "image/png": "[encoded data removed]",
      "text/plain": [
       "<Figure size 432x288 with 1 Axes>"
      ]
     },
     "metadata": {
      "needs_background": "light"
     },
     "output_type": "display_data"
    }
   ],
   "source": [
    "inv_residuals =y_train_inv.astype(float)- (y_train_inv_predicted)\n",
    "sns.residplot(y_train_inv.astype(float),y_train_inv_predicted)"
   ]
  },
  {
   "cell_type": "markdown",
   "metadata": {},
   "source": [
    "The residual points are not evenly dustributed vertically. The predictions get worse as the unemployment rate increases. The residuals show heteroscedasticity pattern which happens when regression assumes that the residuals come data with constant variance. This resuslts in low confidence in the model."
   ]
  },
  {
   "cell_type": "code",
   "execution_count": 65,
   "metadata": {},
   "outputs": [
    {
     "data": {
      "image/png": "[encoded data removed]",
      "text/plain": [
       "<Figure size 432x288 with 1 Axes>"
      ]
     },
     "metadata": {
      "needs_background": "light"
     },
     "output_type": "display_data"
    }
   ],
   "source": [
    "import statsmodels.api as sm\n",
    "_ = sm.qqplot(inv_residuals)"
   ]
  },
  {
   "cell_type": "code",
   "execution_count": 66,
   "metadata": {},
   "outputs": [
    {
     "data": {
      "text/plain": [
       "<matplotlib.axes._subplots.AxesSubplot at 0x1d841793c50>"
      ]
     },
     "execution_count": 66,
     "metadata": {},
     "output_type": "execute_result"
    },
    {
     "data": {
      "image/png": "[encoded data removed]",
      "text/plain": [
       "<Figure size 432x288 with 1 Axes>"
      ]
     },
     "metadata": {
      "needs_background": "light"
     },
     "output_type": "display_data"
    }
   ],
   "source": [
    "sns.distplot(inv_residuals)"
   ]
  },
  {
   "cell_type": "markdown",
   "metadata": {},
   "source": [
    "The residuals are not normally distributed"
   ]
  },
  {
   "cell_type": "code",
   "execution_count": 70,
   "metadata": {},
   "outputs": [],
   "source": [
    "formula_inv_features = ' + '.join(list(selected_inv_features))\n",
    "formula_inv = 'unemployment_rate~'+ formula_inv_features"
   ]
  },
  {
   "cell_type": "code",
   "execution_count": 71,
   "metadata": {},
   "outputs": [],
   "source": [
    "X_y_new_inv_train = pd.concat([X_train_inv,pd.DataFrame(y_train_inv)], axis=1)"
   ]
  },
  {
   "cell_type": "code",
   "execution_count": 72,
   "metadata": {},
   "outputs": [],
   "source": [
    "X_train_y_target_INV = pd.concat([X_train_inv, pd.DataFrame(y_train_inv)], axis=1)"
   ]
  },
  {
   "cell_type": "code",
   "execution_count": 73,
   "metadata": {},
   "outputs": [
    {
     "data": {
      "image/png": "[encoded data removed]",
      "text/plain": [
       "<Figure size 432x288 with 1 Axes>"
      ]
     },
     "metadata": {
      "needs_background": "light"
     },
     "output_type": "display_data"
    },
    {
     "data": {
      "image/png": "[encoded data removed]",
      "text/plain": [
       "<Figure size 432x288 with 1 Axes>"
      ]
     },
     "metadata": {
      "needs_background": "light"
     },
     "output_type": "display_data"
    }
   ],
   "source": [
    "import statsmodels.formula.api as sm\n",
    "results = sm.ols(formula=formula_inv,data = X_train_y_target_INV).fit()\n",
    "import statsmodels.graphics as smgraphics\n",
    "\n",
    "axss = smgraphics.regressionplots.plot_fit(results, 1)\n",
    "_ = smgraphics.regressionplots.plot_fit(results, 2)"
   ]
  },
  {
   "cell_type": "markdown",
   "metadata": {},
   "source": [
    "# Final Investment Model"
   ]
  },
  {
   "cell_type": "code",
   "execution_count": 74,
   "metadata": {},
   "outputs": [],
   "source": [
    "# X_train_inv, X_test_inv, y_train_inv, y_test_inv = train_test_split(X_INV,y_inv, test_size = 0.3, random_state = 0)\n",
    "# X_train_inv.shape"
   ]
  },
  {
   "cell_type": "code",
   "execution_count": 75,
   "metadata": {},
   "outputs": [],
   "source": [
    "import statsmodels.api as sm\n",
    "final_inv_model = rlm(formula_inv, data=X_train_y_target_INV,\n",
    "                      M=sm.robust.norms.HuberT()).fit()"
   ]
  },
  {
   "cell_type": "code",
   "execution_count": 76,
   "metadata": {},
   "outputs": [
    {
     "data": {
      "text/plain": [
       "0.16251768017658352"
      ]
     },
     "execution_count": 76,
     "metadata": {},
     "output_type": "execute_result"
    }
   ],
   "source": [
    "final_inv_model_predicted = final_inv_model.predict(X_test_inv)\n",
    "inv_params = np.array(final_inv_model.params)\n",
    "metrics.r2_score(y_test_inv, final_inv_model_predicted)"
   ]
  },
  {
   "cell_type": "code",
   "execution_count": 88,
   "metadata": {},
   "outputs": [],
   "source": [
    "def print_p_values(x_test, y_test, predicted, params):\n",
    "    \"\"\"\n",
    "    Calculates the p value, based on https://stackoverflow.com/a/42677750/9260653\n",
    "    \"\"\"\n",
    "    newX = np.append(np.ones((len(x_test),1)), x_test, axis=1)\n",
    "    MSE = (sum((y_test.values-predicted)**2))/(len(newX)-len(newX[0]))\n",
    "\n",
    "    var_b = MSE*(np.linalg.pinv(np.dot(newX.T,newX)).diagonal())\n",
    "    sd_b = np.sqrt(var_b)\n",
    "\n",
    "    ts_b = params/ sd_b\n",
    "\n",
    "    p_values =[2*(1-stats.t.cdf(np.abs(i),(len(newX)-1))) for i in ts_b]\n",
    "\n",
    "    sd_b = np.round(sd_b,3)\n",
    "    ts_b = np.round(ts_b,3)\n",
    "    p_values = np.round(p_values,4)\n",
    "    params = np.round(params,4)\n",
    "\n",
    "    myDF3 = pd.DataFrame()\n",
    "    myDF3[\"Coefficients\"],myDF3[\"Standard Errors\"],myDF3[\"t values\"],myDF3[\"P-Values\"] = [params,sd_b,ts_b,p_values]\n",
    "    print(myDF3.iloc[1])"
   ]
  },
  {
   "cell_type": "code",
   "execution_count": 89,
   "metadata": {},
   "outputs": [
    {
     "name": "stdout",
     "output_type": "stream",
     "text": [
      "Coefficients      -0.022\n",
      "Standard Errors    0.003\n",
      "t values          -7.571\n",
      "P-Values           0.000\n",
      "Name: 1, dtype: float64\n"
     ]
    }
   ],
   "source": [
    "# inv_params.shape\n",
    "print_p_values(X_test_inv, y_test_inv, final_inv_model_predicted, inv_params)"
   ]
  },
  {
   "cell_type": "markdown",
   "metadata": {},
   "source": [
    "With a p-value 0f less than 0.01 showing high significance, we can reject the hypothesis that investment has an effect on unemployment rate."
   ]
  },
  {
   "cell_type": "code",
   "execution_count": 79,
   "metadata": {},
   "outputs": [],
   "source": [
    "def fstat_test(final_model):\n",
    "    A = np.identity(len(final_model.params))\n",
    "    A = A[1:,:]\n",
    "    fvalue = final_model.f_test(A).fvalue\n",
    "    print(\"The f value is \" + str(fvalue[0][0]))"
   ]
  },
  {
   "cell_type": "code",
   "execution_count": 92,
   "metadata": {},
   "outputs": [
    {
     "name": "stdout",
     "output_type": "stream",
     "text": [
      "The fvalue is 120.16252929757871\n"
     ]
    },
    {
     "data": {
      "text/plain": [
       "3.004769914118513"
      ]
     },
     "execution_count": 92,
     "metadata": {},
     "output_type": "execute_result"
    }
   ],
   "source": [
    "fstat_test(final_inv_model)\n",
    "degresOfFreedom = len(X_train_inv) - (len(X_train_inv.columns)+1)\n",
    "scipy.stats.f.ppf(q=1-0.05, dfn=2, dfd=degresOfFreedom)"
   ]
  },
  {
   "cell_type": "markdown",
   "metadata": {},
   "source": [
    "With a p-value 0f less than 0.01 and f value greater than f showing high significance, we can reject the hypothesis that investment has an effect on unemployment rate."
   ]
  },
  {
   "cell_type": "code",
   "execution_count": null,
   "metadata": {},
   "outputs": [],
   "source": []
  }
 ],
 "metadata": {
  "kernelspec": {
   "display_name": "Python 3",
   "language": "python",
   "name": "python3"
  },
  "language_info": {
   "codemirror_mode": {
    "name": "ipython",
    "version": 3
   },
   "file_extension": ".py",
   "mimetype": "text/x-python",
   "name": "python",
   "nbconvert_exporter": "python",
   "pygments_lexer": "ipython3",
   "version": "3.7.3"
  }
 },
 "nbformat": 4,
 "nbformat_minor": 5
}
