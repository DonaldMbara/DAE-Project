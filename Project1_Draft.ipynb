{
 "cells": [
  {
   "cell_type": "markdown",
   "metadata": {},
   "source": [
    "# Household factors leading to conviction of a crime"
   ]
  },
  {
   "cell_type": "code",
   "execution_count": 1,
   "metadata": {},
   "outputs": [],
   "source": [
    "#import libraries\n",
    "import numpy as np\n",
    "import pandas as pd\n",
    "import seaborn as sns\n",
    "import matplotlib.pyplot as plt\n",
    "import statsmodels.api as sm\n",
    "import statsmodels.formula.api as smf\n",
    "from sklearn.utils import resample\n",
    "from statsmodels.stats.outliers_influence import variance_inflation_factor\n",
    "import warnings\n",
    "warnings.filterwarnings('ignore')\n",
    "from IPython.display import clear_output"
   ]
  },
  {
   "cell_type": "markdown",
   "metadata": {},
   "source": [
    "### Executive Summary\n",
    "\n",
    "#### Purpose of the notebook\n",
    "This project uses data from Stats SA to predict number of crime convictions using household data (household income, distance to the nearest police station, living conditions etc.)\n",
    "\n",
    "#### What is being modelled\n",
    "Determine the relationship between the number of crime convictions (Conviction of theft of personal property,Conviction of fraud,Conviction of assault etc.) and household living condtions (Type of toilet facility,Access to/use electricity,Victim of other crimes etc.). Does having no access to electricity lead to a person commiting more crimes? Is Conviction of assault result from being a victim of assault?\n",
    "\n",
    "#### What are the main results\n",
    "Determine if the a statistical relationship between any crime conviction to a persons living conditions, place of dwelling and overall community development. Perform statical modeling methods to predict the relationship\n",
    "\n",
    "#### Limitations\n",
    "\n",
    "The sample size does not represent South Africas entire population well. We used imputation methods to fill in data that was missing(e.g replacing 'Not applicable' with a 'NO') and we removed data that is not useful to our analysis( e.g  ' Unspecified, Other').Some features don’t have a clear correlation with the number of convictions and may limit the models ability to perform with high accuracy. \n",
    "\n",
    "\n",
    "## Introduction\n",
    "The general level of crime as estimated by VOCS has been declining during the past five years but increased in 2016/17 and 2017/18.\n",
    "\n",
    "Household crimes increased by 5% to a total of 1,5 million incidences of crime while individual crime also increased by 5% to a total of 1,6 incidences, affecting 1,4 million individuals aged 16 and above. Northern Cape had the highest increase in both household and individual crimes. Housebreaking or burglary was the most dominant (54%) crime category among crimes measured by the Victims of Crime Survey (VOCS). An estimated total of 830 thousand incidences of housebreaking occurred in 2017/18, affecting 4,25% of all South African households. Nearly 32% of items stolen during housebreaking were clothes, followed by cellphones (24%) and food (22%). http://www.statssa.gov.za/?p=11627\n",
    "\n",
    "\n",
    "### Research question\n",
    "\n",
    "What variables affect conviction of a crime and how do they affect it?\n",
    "\n",
    "\n",
    "\n",
    "\n",
    "\n",
    "\n",
    "### Methodology\n",
    "A brief overview of the methodology is as follows:<br/>\n",
    "1. Read in data <br/>\n",
    "2. Encode variables - All variables in the dataset have been encoded (see next section: Read in the data) <br/>\n",
    "3. Exploratory plots - Of the number of convictions VS no_food, province_code, income, present household living standard, distance to the nearest police station, no money for five days and total number of instances Of person being a victim<br/>\n",
    "4. Feature selection using step-wise regression <br/>\n",
    "5. Bootstrapping for feature selection and testing<br/>\n",
    "6. Comparison of regression coefficient over the years <br/>"
   ]
  },
  {
   "cell_type": "markdown",
   "metadata": {},
   "source": [
    "# 1. Data Description"
   ]
  },
  {
   "cell_type": "markdown",
   "metadata": {},
   "source": [
    "#### link to dataset: http://nesstar.statssa.gov.za:8282/webview/\n",
    "\n",
    "* Collection method: Survey of 23380 household across all 9 provinces\n",
    "* Date collected: April 10, 2017\n",
    "* Date Downloaded: April 07, 2021\n",
    "* Data size: 23380 rows, 307 columns\n",
    "\n",
    "## Variable Encoding\n",
    "##### Q116PRESENT - Present household living standard\n",
    "1 - Wealthy<br/>\n",
    "2 - Very comfortable<br/>\n",
    "3 - Reasonably comfortable<br/>\n",
    "4 - Just getting along<br/>\n",
    "5 - Poor<br/>\n",
    "6 - Very poor<br/>\n",
    "9 - Unspecified<br/>\n",
    "\n",
    "#### Q51MAIN - Description of the main building\n",
    "\n",
    "1 - Formal dwelling/house or brick/concrete block structure on a separate stand or yard or on a farm<br/>\n",
    "2 - Traditional dwelling/hut/structure made of traditional materials<br/>\n",
    "3 - Flat or apartment in a block of flats<br/>\n",
    "4 - Cluster house in security complex<br/>\n",
    "5 - Town house (semi-detached house in a complex)<br/>\n",
    "6 - Semi-detached house<br/>\n",
    "7 - Formal dwelling/house/flat/room in backyard<br/>\n",
    "8 - Informal dwelling/shack in backyard<br/>\n",
    "9 - Informal dwelling/shack not in backyard<br/>\n",
    "\n",
    "#### Q51NOOTH - No other dwelling occupied\n",
    "\n",
    "1 - Yes <br/>\n",
    "8 - Not applicable <br/>\n",
    "9 - Unspecified <br/>\n",
    "\n",
    "#### Q52AWALLS - Main material used for walls of the main dwelling\n",
    "\n",
    "1 - Bricks <br/> \n",
    "2 - Cement/concrete <br/> \n",
    "3 - Corrugated iron/Zinc \n",
    "4 - Wood <br/> \n",
    "5 - Plastic <br/> \n",
    "6 - Cardboard <br/> \n",
    "7 - Mixture of mud and cement <br/> \n",
    "8 - Wattle and daub (e.g. sticks and mud) <br/> \n",
    "9 - Tiles <br/> \n",
    "10 - Mud <br/> \n",
    "11 - Thatch/grass<br/> \n",
    "12 - Asbestos <br/> \n",
    "13 - Other, specify <br/> \n",
    "99 - Unspecified <br/>\n",
    "\n",
    "#### Q52AROOF - Main material used for the roof of the main dwelling\n",
    "\n",
    "1 -  Bricks <br/>\n",
    "2 - Cement/concrete <br/> \n",
    "3 - Corrugated iron/Zinc <br/>\n",
    "4 - Wood <br/> \n",
    "5 - Plastic <br/>\n",
    "6 - Cardboard <br/>\n",
    "7 - Mixture of mud and cement <br/>\n",
    "8 - Wattle and daub (e.g. sticks and mud) <br/>\n",
    "9 - Tiles <br/>\n",
    "10 - Mud <br/>\n",
    "11 - Thatch/grass <br/>\n",
    "12 - Asbestos <br/>\n",
    "13 - Other, specify <br/>\n",
    "99 - Unspecified <br/>\n",
    "\n",
    "#### Q54ADWELLING - Government housing subsidy for other dwelling\n",
    "\n",
    "1 - Yes <br/>\n",
    "2 - No <br/> \n",
    "3 - Don’t know <br/>\n",
    "9 - Unspecified <br/>\n",
    "\t\n",
    "#### Q54AOTHER - Government housing subsidy for other dwelling\n",
    "\n",
    "1 - Yes <br/>\n",
    "2 - No <br/> \n",
    "3 - Don’t know <br/>\n",
    "9 - Unspecified<br/>\n",
    "\n",
    "#### Q56DRINK - Main source of water for drinking\n",
    "\n",
    "1 - Piped (tap) water in the dwelling/house <br/>\n",
    "2 - Piped (tap) water in yard  <br/>\n",
    "3 - Borehole in yard  <br/>\n",
    "4 - Rain-water tank in yard  <br/>\n",
    "5 - Neighbour’s tap  <br/>\n",
    "6 - Public/communal tap  <br/>\n",
    "7 - Water-carrier/tanker\n",
    "8 - Borehole outside yard  <br/> \n",
    "9 - Flowing water/stream/river  <br/>\n",
    "10 - Stagnant water/dam/pool  <br/>\n",
    "11 - Well  <br/>\n",
    "12 - Spring  <br/>\n",
    "13 - Other, specify  <br/>\n",
    "99 - Unspecified <br/>\n",
    "\n",
    "#### Q56OTHER - Main source of water for other use\n",
    "\n",
    "1 - Piped (tap) water in the dwelling/house <br/>\n",
    "2 - Piped (tap) water in yard <br/>\n",
    "3 - Borehole in yard <br/>\n",
    "4 - Rain-water tank in yard <br/>\n",
    "5 - Neighbour’s tap <br/>\n",
    "6 - Public/communal tap <br/>\n",
    "7 - Water-carrier/tanker <br/>\n",
    "8 - Borehole outside yard<br/>\n",
    "9 - Flowing water/stream/river <br/>\n",
    "10 - Stagnant water/dam/pool <br/>\n",
    "11 - Well <br/>\n",
    "12 - Spring <br/> \n",
    "13 - Other, specify <br/>\n",
    "99 - Unspecified <br/>\n",
    "\n",
    "#### Q518TOILET - Type of toilet facility\n",
    "\n",
    "1 - Flush toilet connected to a public sewerage system <br/>\n",
    "2 - Flush toilet connected to a septic tank <br/> \n",
    "3 - Chemical toilet <br/> \n",
    "4 - Pit latrine/toilet with ventilation pipe <br/> \n",
    "5 - Pit latrine/toilet without ventilation pipe <br/> \n",
    "6 - Bucket toilet (collected by municipality) <br/> \n",
    "7 - Bucket toilet (emptied by household) <br/>\n",
    "8 - Ecological Sanitation Systems <br/>\n",
    "9 - None <br/> \n",
    "10 - Other, specify <br/>\n",
    "99 - Unspecified<br/>\n",
    "\n",
    "\n",
    "\n",
    "#### Q524ELECT - Access to/use electricity\n",
    "\n",
    "1 - Yes <br/>\n",
    "2 - Not <br/>\n",
    "9 - Unspecified <br/>\n",
    "\n",
    "#### Q531POLICE - Distance to the nearest police station\n",
    "\n",
    "1 - Less than 500m <br/>\n",
    "2 - 500m – less than 1km <br/>\n",
    "3 - 1km – less than 2km <br/>\n",
    "4 - 2km – less than 5km <br/>\n",
    "5 - 5km – less than 10km <br/>\n",
    "6 - 10km – less than 20km <br/>\n",
    "7 - 20km or more <br/>\n",
    "8 - Not available <br/>\n",
    "9 - Don’t know <br/>\n",
    "99 - Unspecified <br/>\n",
    "\n",
    "#### Q532FOOD - Mode of transport to the nearest food market\n",
    "\n",
    "1 - Walking <br/>\n",
    "2 - Taxi <br/> \n",
    "3 - Bus (public)<br/>\n",
    "4 - Train <br/>\n",
    "5 - Own transport <br/>\n",
    "6 - Other, specify <br/>\n",
    "9 - Unspecified<br/>\n",
    "\n",
    "#### Q62OWNSHIP - Ownership of main dwelling\n",
    "\n",
    "1 - Owned and fully paid off <br/>\n",
    "2 - Owned, but not yet fully paid off, financed by a mortgage bond <br/>\n",
    "3 - Owned, but not yet fully paid off, financed by another type of loan <br/>\n",
    "4 - Rented as part of employment contract of household member <br/>\n",
    "5 - Rented not as part of employment contract of household member <br/>\n",
    "6 - Occupied rent-free as part of employment contract of household member <br/>\n",
    "7 - Occupied rent-free not<br/>\n",
    "\n",
    "#### Q651TOTROOMS - Total number of rooms\n",
    "99 - Unspecified \n",
    "\n",
    "#### Q658VALUE - Estimated value of the dwelling\n",
    "\n",
    "1 - R0 – R5 000 917 <br/>\n",
    "2 - R5 001 – R10 000 <br/>\n",
    "3 - R10 001 – R20 000 <br/>\n",
    "4 - R20 001 – R50 000 <br/>\n",
    "5 - R50 001 – R100 000 <br/>\n",
    "6 - R100 001 – R250 000 <br/>\n",
    "7 - R250 001 – R500 000 <br/>\n",
    "8 - R500 001 – R1 000 000 <br/>\n",
    "9 - R1 000 001 – R2 000 000 <br/>\n",
    "10 - R2 000 001 – R3 000 000 <br/>\n",
    "11 - R3 000 001 – R 4 000 000 <br/>\n",
    "12 - More than R 4 000 000 <br/>\n",
    "13 - Don’t know <br/>\n",
    "88 - Not applicable <br/>\n",
    "99 - Uspecified\n",
    "\n",
    "\n",
    "#### Q61035POLICE - Police on the streets in the local area\n",
    "\n",
    "1 - Have <br/>\n",
    "2 - Don't have <br/>\n",
    "3 - Don't Know <br/>\n",
    "9 - Unspecified\n",
    "\n",
    "#### Q224BNOMONEY5 - No money for 5 or more days\n",
    "\n",
    "1 - Yes <br/>\n",
    "2 - No <br/>\n",
    "8 - 8 Not applicable <br/>\n",
    "9 - Unspecified\n",
    "\n",
    "#### Q2341SAVING - Household Savings\n",
    "\n",
    "1 - Yes <br/>\n",
    "2 - No <br/>\n",
    "9 - Unspecified\n",
    "\n",
    "\n",
    "#### province_code -  Province Code\n",
    "\n",
    "1 - Western Cape <br/>\n",
    "2 - Eastern Cape <br/>\n",
    "3 - Northern Cape <br/>\n",
    "4 - Free State <br/>\n",
    "5 - KwaZulu-Natal <br/>\n",
    "6 - North West <br/>\n",
    "7 - Gauteng <br/>\n",
    "8 - Mpumalanga <br/>\n",
    "9 - Limpopo<br/>\n",
    "\n",
    "\n",
    "#### SETTLEMENT_TYPE - Settlement Type\n",
    "\n",
    "1 - Urban formal <br/>\n",
    "2 - Urban informal <br/>\n",
    "4 - Traditional area <br/>\n",
    "5 - Rural formal<br/>\n",
    "\n"
   ]
  },
  {
   "cell_type": "code",
   "execution_count": 2,
   "metadata": {
    "scrolled": true
   },
   "outputs": [
    {
     "data": {
      "text/html": [
       "<div>\n",
       "<style scoped>\n",
       "    .dataframe tbody tr th:only-of-type {\n",
       "        vertical-align: middle;\n",
       "    }\n",
       "\n",
       "    .dataframe tbody tr th {\n",
       "        vertical-align: top;\n",
       "    }\n",
       "\n",
       "    .dataframe thead th {\n",
       "        text-align: right;\n",
       "    }\n",
       "</style>\n",
       "<table border=\"1\" class=\"dataframe\">\n",
       "  <thead>\n",
       "    <tr style=\"text-align: right;\">\n",
       "      <th></th>\n",
       "      <th>UQNO</th>\n",
       "      <th>SURVEYDATE</th>\n",
       "      <th>Q11CPARTHH</th>\n",
       "      <th>Q11CMANY</th>\n",
       "      <th>Q15OTHPERS</th>\n",
       "      <th>Q116PRESENT</th>\n",
       "      <th>Q116PERSONNO</th>\n",
       "      <th>Q51MAIN</th>\n",
       "      <th>Q51OTHER</th>\n",
       "      <th>Q51NOOTH</th>\n",
       "      <th>...</th>\n",
       "      <th>income_pcp_quintile</th>\n",
       "      <th>expend_inkind_decile</th>\n",
       "      <th>expend_inkind_quintile</th>\n",
       "      <th>income_inkind_decile</th>\n",
       "      <th>income_inkind_quintile</th>\n",
       "      <th>Expenditure_weighted</th>\n",
       "      <th>Expenditure_inkind_weighted</th>\n",
       "      <th>Income_weighted</th>\n",
       "      <th>Income_inkind_weighted</th>\n",
       "      <th>hholds_wgt</th>\n",
       "    </tr>\n",
       "  </thead>\n",
       "  <tbody>\n",
       "    <tr>\n",
       "      <th>0</th>\n",
       "      <td>813004940000021702</td>\n",
       "      <td>1032015</td>\n",
       "      <td>2</td>\n",
       "      <td>88</td>\n",
       "      <td>2</td>\n",
       "      <td>5</td>\n",
       "      <td>1</td>\n",
       "      <td>2</td>\n",
       "      <td>88</td>\n",
       "      <td>1</td>\n",
       "      <td>...</td>\n",
       "      <td>1</td>\n",
       "      <td>1</td>\n",
       "      <td>1</td>\n",
       "      <td>1</td>\n",
       "      <td>1</td>\n",
       "      <td>1.516301e+06</td>\n",
       "      <td>1.516301e+06</td>\n",
       "      <td>0.0</td>\n",
       "      <td>0.0</td>\n",
       "      <td>624.763809</td>\n",
       "    </tr>\n",
       "    <tr>\n",
       "      <th>1</th>\n",
       "      <td>607001710000011901</td>\n",
       "      <td>2042015</td>\n",
       "      <td>2</td>\n",
       "      <td>88</td>\n",
       "      <td>2</td>\n",
       "      <td>6</td>\n",
       "      <td>1</td>\n",
       "      <td>1</td>\n",
       "      <td>88</td>\n",
       "      <td>1</td>\n",
       "      <td>...</td>\n",
       "      <td>1</td>\n",
       "      <td>1</td>\n",
       "      <td>1</td>\n",
       "      <td>1</td>\n",
       "      <td>1</td>\n",
       "      <td>2.596009e+06</td>\n",
       "      <td>2.596009e+06</td>\n",
       "      <td>0.0</td>\n",
       "      <td>0.0</td>\n",
       "      <td>509.986828</td>\n",
       "    </tr>\n",
       "    <tr>\n",
       "      <th>2</th>\n",
       "      <td>774017360000010201</td>\n",
       "      <td>4102015</td>\n",
       "      <td>2</td>\n",
       "      <td>88</td>\n",
       "      <td>2</td>\n",
       "      <td>6</td>\n",
       "      <td>1</td>\n",
       "      <td>7</td>\n",
       "      <td>88</td>\n",
       "      <td>1</td>\n",
       "      <td>...</td>\n",
       "      <td>1</td>\n",
       "      <td>1</td>\n",
       "      <td>1</td>\n",
       "      <td>1</td>\n",
       "      <td>1</td>\n",
       "      <td>5.079606e+06</td>\n",
       "      <td>5.079606e+06</td>\n",
       "      <td>0.0</td>\n",
       "      <td>0.0</td>\n",
       "      <td>828.185078</td>\n",
       "    </tr>\n",
       "    <tr>\n",
       "      <th>3</th>\n",
       "      <td>236006020000000901</td>\n",
       "      <td>1022015</td>\n",
       "      <td>2</td>\n",
       "      <td>88</td>\n",
       "      <td>2</td>\n",
       "      <td>6</td>\n",
       "      <td>1</td>\n",
       "      <td>2</td>\n",
       "      <td>2</td>\n",
       "      <td>8</td>\n",
       "      <td>...</td>\n",
       "      <td>1</td>\n",
       "      <td>1</td>\n",
       "      <td>1</td>\n",
       "      <td>1</td>\n",
       "      <td>1</td>\n",
       "      <td>2.105227e+06</td>\n",
       "      <td>2.105227e+06</td>\n",
       "      <td>0.0</td>\n",
       "      <td>0.0</td>\n",
       "      <td>341.725292</td>\n",
       "    </tr>\n",
       "    <tr>\n",
       "      <th>4</th>\n",
       "      <td>773024020070002701</td>\n",
       "      <td>3072015</td>\n",
       "      <td>1</td>\n",
       "      <td>99</td>\n",
       "      <td>2</td>\n",
       "      <td>5</td>\n",
       "      <td>2</td>\n",
       "      <td>1</td>\n",
       "      <td>99</td>\n",
       "      <td>9</td>\n",
       "      <td>...</td>\n",
       "      <td>1</td>\n",
       "      <td>1</td>\n",
       "      <td>1</td>\n",
       "      <td>1</td>\n",
       "      <td>1</td>\n",
       "      <td>6.038148e+06</td>\n",
       "      <td>6.038148e+06</td>\n",
       "      <td>0.0</td>\n",
       "      <td>0.0</td>\n",
       "      <td>928.854284</td>\n",
       "    </tr>\n",
       "  </tbody>\n",
       "</table>\n",
       "<p>5 rows × 307 columns</p>\n",
       "</div>"
      ],
      "text/plain": [
       "                 UQNO  SURVEYDATE  Q11CPARTHH  Q11CMANY  Q15OTHPERS  \\\n",
       "0  813004940000021702     1032015           2        88           2   \n",
       "1  607001710000011901     2042015           2        88           2   \n",
       "2  774017360000010201     4102015           2        88           2   \n",
       "3  236006020000000901     1022015           2        88           2   \n",
       "4  773024020070002701     3072015           1        99           2   \n",
       "\n",
       "   Q116PRESENT  Q116PERSONNO  Q51MAIN  Q51OTHER  Q51NOOTH  ...  \\\n",
       "0            5             1        2        88         1  ...   \n",
       "1            6             1        1        88         1  ...   \n",
       "2            6             1        7        88         1  ...   \n",
       "3            6             1        2         2         8  ...   \n",
       "4            5             2        1        99         9  ...   \n",
       "\n",
       "   income_pcp_quintile  expend_inkind_decile  expend_inkind_quintile  \\\n",
       "0                    1                     1                       1   \n",
       "1                    1                     1                       1   \n",
       "2                    1                     1                       1   \n",
       "3                    1                     1                       1   \n",
       "4                    1                     1                       1   \n",
       "\n",
       "   income_inkind_decile  income_inkind_quintile  Expenditure_weighted  \\\n",
       "0                     1                       1          1.516301e+06   \n",
       "1                     1                       1          2.596009e+06   \n",
       "2                     1                       1          5.079606e+06   \n",
       "3                     1                       1          2.105227e+06   \n",
       "4                     1                       1          6.038148e+06   \n",
       "\n",
       "   Expenditure_inkind_weighted  Income_weighted  Income_inkind_weighted  \\\n",
       "0                 1.516301e+06              0.0                     0.0   \n",
       "1                 2.596009e+06              0.0                     0.0   \n",
       "2                 5.079606e+06              0.0                     0.0   \n",
       "3                 2.105227e+06              0.0                     0.0   \n",
       "4                 6.038148e+06              0.0                     0.0   \n",
       "\n",
       "   hholds_wgt  \n",
       "0  624.763809  \n",
       "1  509.986828  \n",
       "2  828.185078  \n",
       "3  341.725292  \n",
       "4  928.854284  \n",
       "\n",
       "[5 rows x 307 columns]"
      ]
     },
     "execution_count": 2,
     "metadata": {},
     "output_type": "execute_result"
    }
   ],
   "source": [
    "DF = pd.read_csv('household.csv')\n",
    "DF.head()"
   ]
  },
  {
   "cell_type": "code",
   "execution_count": 3,
   "metadata": {},
   "outputs": [],
   "source": [
    "# The column names that will be used for the dataset\n",
    "DATA = DF[['Q116PRESENT','Q51MAIN','Q51NOOTH','Q52AWALLS','Q52AROOF','Q53WALLS',\n",
    "           'Q53ROOF','Q54ADWELLING','Q161CPUBATT','Q161CPRIVATT','Q54AOTHER','Q56DRINK','Q56OTHER','Q518TOILET',\n",
    "          'Q524ELECT','Q531POLICE','Q532FOOD','Q62OWNSHIP','Q651TOTROOMS','Q658VALUE',\n",
    "          'Q61035POLICE','Q224BNOMONEY5','Q2341SAVING','province_code','SETTLEMENT_TYPE',\n",
    "           'Ageofhead','hhsize','income']]\n"
   ]
  },
  {
   "attachments": {},
   "cell_type": "markdown",
   "metadata": {},
   "source": [
    "## Aspects of Data Quality\n",
    "Validity: Data conforms with csv standard format<br/>\n",
    "Accuracy: Data represents the reality of the south african population according to Statistics South Africa<br/>\n",
    "Completeness: All records present<br/>\n",
    "Consistency: The data is in logical agreement <br/>\n",
    "Uniformity: The same units are used across a given field<br/>"
   ]
  },
  {
   "cell_type": "markdown",
   "metadata": {},
   "source": [
    "## Data Wrangling\n",
    "\n",
    "### Tidyness of the data\n",
    "The data contains 'Nan' values<br/> \n",
    "We are basically grouping all the attributes that use the same values for 'Nan' and droping all the rows that corresping to nan. we do this for all the following values.<br/>\n",
    "\n",
    "3 - Don't Know<br/>\n",
    "6 - Other, specify<br/>\n",
    "9 - Unspecified<br/>\n",
    "10 - Other<br/>\n",
    "13 - Don’t know/Other<br/>\n",
    "88 - Not applicable<br/>\n",
    "99 - Unspecified<br/>\n",
    "\n",
    "\n",
    "Q51NOOTH(No other dwelling occupied) all the ' 8 ' (Not applicable) will be converted to ' 2 ' meaning No."
   ]
  },
  {
   "cell_type": "markdown",
   "metadata": {},
   "source": [
    "To create columns for the number of convictions and instances of being a victim of crime, the individuals’ crimes committed and crimes experienced were tallied up into instances. The columns were then appended to the original data and columns that defined the type of crimes were removed. The data has 31 rows."
   ]
  },
  {
   "cell_type": "code",
   "execution_count": 4,
   "metadata": {},
   "outputs": [],
   "source": [
    "# The crime victims columns are in the range 142-159\n",
    "# We are adding them to data.\n",
    "\n",
    "# The total number of instances where one person has been a victim of crime is the sum of all specific instance \n",
    "# of a person being a victim.\n",
    "# 2 represents no, 1 represents yes, 9 represents unspecified\n",
    "\n",
    "victims = DF.iloc[:,141:159]\n",
    "victims.replace({2:0,9:0},inplace=True)\n",
    "# Total_IOPBV - total number of Instances Of Person Being a Victim\n",
    "victims['Total_IOPBV'] = victims.sum(axis=1)"
   ]
  },
  {
   "cell_type": "code",
   "execution_count": 5,
   "metadata": {},
   "outputs": [],
   "source": [
    "#T he crime conviction columns are in the range 160-177\n",
    "# We are adding them to data.\n",
    "\n",
    "convictions = DF.iloc[:,159:177]\n",
    "\n",
    "#The total number of convictions is the sum of all specific convictions.\n",
    "# 2 represents no, 1 represents yes, 9 represents unspecified\n",
    "convictions.replace({2:0,9:0},inplace=True)\n",
    "convictions['Total_number_of_convictions'] = convictions.sum(axis=1)"
   ]
  },
  {
   "cell_type": "code",
   "execution_count": 6,
   "metadata": {
    "scrolled": true
   },
   "outputs": [],
   "source": [
    "DATA = pd.concat([DATA,victims['Total_IOPBV']],axis=1)\n",
    "DATA = pd.concat([DATA,convictions['Total_number_of_convictions']],axis = 1)"
   ]
  },
  {
   "cell_type": "code",
   "execution_count": 55,
   "metadata": {},
   "outputs": [
    {
     "data": {
      "text/plain": [
       "0"
      ]
     },
     "execution_count": 55,
     "metadata": {},
     "output_type": "execute_result"
    }
   ],
   "source": [
    "duplicates =DATA.duplicated(['Q116PRESENT','Q51MAIN','Q51NOOTH','Q52AWALLS','Q52AROOF','Q53WALLS',\n",
    "           'Q53ROOF','Q54ADWELLING','Q161CPUBATT','Q161CPRIVATT','Q54AOTHER','Q56DRINK','Q56OTHER','Q518TOILET',\n",
    "          'Q524ELECT','Q531POLICE','Q532FOOD','Q62OWNSHIP','Q651TOTROOMS','Q658VALUE',\n",
    "          'Q61035POLICE','Q224BNOMONEY5','Q2341SAVING','province_code','SETTLEMENT_TYPE',\n",
    "           'Ageofhead','hhsize','income'])\n",
    "np.count_nonzero(duplicates)"
   ]
  },
  {
   "cell_type": "markdown",
   "metadata": {},
   "source": [
    "There are no duplicates in the dataset"
   ]
  },
  {
   "cell_type": "code",
   "execution_count": 26,
   "metadata": {},
   "outputs": [
    {
     "data": {
      "text/html": [
       "<div>\n",
       "<style scoped>\n",
       "    .dataframe tbody tr th:only-of-type {\n",
       "        vertical-align: middle;\n",
       "    }\n",
       "\n",
       "    .dataframe tbody tr th {\n",
       "        vertical-align: top;\n",
       "    }\n",
       "\n",
       "    .dataframe thead th {\n",
       "        text-align: right;\n",
       "    }\n",
       "</style>\n",
       "<table border=\"1\" class=\"dataframe\">\n",
       "  <thead>\n",
       "    <tr style=\"text-align: right;\">\n",
       "      <th></th>\n",
       "      <th>level_0</th>\n",
       "      <th>index</th>\n",
       "      <th>Q116PRESENT</th>\n",
       "      <th>Q51MAIN</th>\n",
       "      <th>Q51NOOTH</th>\n",
       "      <th>Q52AWALLS</th>\n",
       "      <th>Q52AROOF</th>\n",
       "      <th>Q53WALLS</th>\n",
       "      <th>Q53ROOF</th>\n",
       "      <th>Q54ADWELLING</th>\n",
       "      <th>...</th>\n",
       "      <th>Q61035POLICE</th>\n",
       "      <th>Q224BNOMONEY5</th>\n",
       "      <th>Q2341SAVING</th>\n",
       "      <th>province_code</th>\n",
       "      <th>SETTLEMENT_TYPE</th>\n",
       "      <th>Ageofhead</th>\n",
       "      <th>hhsize</th>\n",
       "      <th>income</th>\n",
       "      <th>Total_IOPBV</th>\n",
       "      <th>Total_number_of_convictions</th>\n",
       "    </tr>\n",
       "  </thead>\n",
       "  <tbody>\n",
       "    <tr>\n",
       "      <th>0</th>\n",
       "      <td>0</td>\n",
       "      <td>70</td>\n",
       "      <td>6</td>\n",
       "      <td>9</td>\n",
       "      <td>1</td>\n",
       "      <td>4</td>\n",
       "      <td>3</td>\n",
       "      <td>1</td>\n",
       "      <td>1</td>\n",
       "      <td>2</td>\n",
       "      <td>...</td>\n",
       "      <td>1</td>\n",
       "      <td>1</td>\n",
       "      <td>2</td>\n",
       "      <td>8</td>\n",
       "      <td>5</td>\n",
       "      <td>77</td>\n",
       "      <td>5</td>\n",
       "      <td>362.281096</td>\n",
       "      <td>0</td>\n",
       "      <td>0</td>\n",
       "    </tr>\n",
       "    <tr>\n",
       "      <th>1</th>\n",
       "      <td>1</td>\n",
       "      <td>72</td>\n",
       "      <td>6</td>\n",
       "      <td>9</td>\n",
       "      <td>1</td>\n",
       "      <td>3</td>\n",
       "      <td>3</td>\n",
       "      <td>1</td>\n",
       "      <td>1</td>\n",
       "      <td>2</td>\n",
       "      <td>...</td>\n",
       "      <td>2</td>\n",
       "      <td>2</td>\n",
       "      <td>2</td>\n",
       "      <td>7</td>\n",
       "      <td>4</td>\n",
       "      <td>52</td>\n",
       "      <td>5</td>\n",
       "      <td>533.033986</td>\n",
       "      <td>0</td>\n",
       "      <td>0</td>\n",
       "    </tr>\n",
       "    <tr>\n",
       "      <th>2</th>\n",
       "      <td>2</td>\n",
       "      <td>73</td>\n",
       "      <td>6</td>\n",
       "      <td>9</td>\n",
       "      <td>2</td>\n",
       "      <td>3</td>\n",
       "      <td>3</td>\n",
       "      <td>2</td>\n",
       "      <td>2</td>\n",
       "      <td>2</td>\n",
       "      <td>...</td>\n",
       "      <td>2</td>\n",
       "      <td>1</td>\n",
       "      <td>2</td>\n",
       "      <td>8</td>\n",
       "      <td>2</td>\n",
       "      <td>55</td>\n",
       "      <td>3</td>\n",
       "      <td>355.355991</td>\n",
       "      <td>0</td>\n",
       "      <td>0</td>\n",
       "    </tr>\n",
       "    <tr>\n",
       "      <th>3</th>\n",
       "      <td>3</td>\n",
       "      <td>74</td>\n",
       "      <td>6</td>\n",
       "      <td>9</td>\n",
       "      <td>1</td>\n",
       "      <td>3</td>\n",
       "      <td>3</td>\n",
       "      <td>2</td>\n",
       "      <td>3</td>\n",
       "      <td>2</td>\n",
       "      <td>...</td>\n",
       "      <td>1</td>\n",
       "      <td>1</td>\n",
       "      <td>2</td>\n",
       "      <td>1</td>\n",
       "      <td>1</td>\n",
       "      <td>49</td>\n",
       "      <td>3</td>\n",
       "      <td>363.727741</td>\n",
       "      <td>1</td>\n",
       "      <td>0</td>\n",
       "    </tr>\n",
       "    <tr>\n",
       "      <th>4</th>\n",
       "      <td>4</td>\n",
       "      <td>77</td>\n",
       "      <td>5</td>\n",
       "      <td>2</td>\n",
       "      <td>2</td>\n",
       "      <td>7</td>\n",
       "      <td>3</td>\n",
       "      <td>1</td>\n",
       "      <td>1</td>\n",
       "      <td>2</td>\n",
       "      <td>...</td>\n",
       "      <td>1</td>\n",
       "      <td>2</td>\n",
       "      <td>1</td>\n",
       "      <td>9</td>\n",
       "      <td>4</td>\n",
       "      <td>29</td>\n",
       "      <td>5</td>\n",
       "      <td>836.123491</td>\n",
       "      <td>0</td>\n",
       "      <td>0</td>\n",
       "    </tr>\n",
       "  </tbody>\n",
       "</table>\n",
       "<p>5 rows × 32 columns</p>\n",
       "</div>"
      ],
      "text/plain": [
       "   level_0  index  Q116PRESENT  Q51MAIN  Q51NOOTH  Q52AWALLS  Q52AROOF  \\\n",
       "0        0     70            6        9         1          4         3   \n",
       "1        1     72            6        9         1          3         3   \n",
       "2        2     73            6        9         2          3         3   \n",
       "3        3     74            6        9         1          3         3   \n",
       "4        4     77            5        2         2          7         3   \n",
       "\n",
       "   Q53WALLS  Q53ROOF  Q54ADWELLING  ...  Q61035POLICE  Q224BNOMONEY5  \\\n",
       "0         1        1             2  ...             1              1   \n",
       "1         1        1             2  ...             2              2   \n",
       "2         2        2             2  ...             2              1   \n",
       "3         2        3             2  ...             1              1   \n",
       "4         1        1             2  ...             1              2   \n",
       "\n",
       "   Q2341SAVING  province_code  SETTLEMENT_TYPE  Ageofhead  hhsize      income  \\\n",
       "0            2              8                5         77       5  362.281096   \n",
       "1            2              7                4         52       5  533.033986   \n",
       "2            2              8                2         55       3  355.355991   \n",
       "3            2              1                1         49       3  363.727741   \n",
       "4            1              9                4         29       5  836.123491   \n",
       "\n",
       "   Total_IOPBV  Total_number_of_convictions  \n",
       "0            0                            0  \n",
       "1            0                            0  \n",
       "2            0                            0  \n",
       "3            1                            0  \n",
       "4            0                            0  \n",
       "\n",
       "[5 rows x 32 columns]"
      ]
     },
     "execution_count": 26,
     "metadata": {},
     "output_type": "execute_result"
    }
   ],
   "source": [
    "DATA_DIRTY = DATA.copy()\n",
    "# We will be droping  rows due to the fact that they represent 'Nan'\n",
    "\n",
    "# drop 3 - Don't Know\n",
    "DATA = DATA.drop(DATA[(DATA.Q54ADWELLING == 3) | (DATA.Q54AOTHER == 3) | (DATA.Q61035POLICE == 3)].index)\n",
    "\n",
    "# drop 6 - Other, specify\n",
    "DATA = DATA.drop(DATA[(DATA.Q532FOOD == 6)].index)\n",
    "\n",
    "# drop 9 - Unspecified\n",
    "DATA = DATA.drop(DATA[(DATA.Q116PRESENT == 9) | (DATA.Q51NOOTH  == 9) | (DATA.Q54ADWELLING == 9) | (DATA.Q54AOTHER == 9 ) | (DATA.Q524ELECT  == 9) | (DATA.Q532FOOD == 9) | (DATA.Q61035POLICE == 9)| (DATA.Q531POLICE == 9) | (DATA.Q224BNOMONEY5 == 9) | (DATA.Q2341SAVING == 9)].index)\n",
    "\n",
    "# drop 10 - Other\n",
    "DATA = DATA.drop(DATA[(DATA.Q518TOILET  == 10)].index)\n",
    "\n",
    "# drop 13 - Don’t know/Other\n",
    "DATA = DATA.drop(DATA[(DATA.Q658VALUE == 13) | (DATA.Q56OTHER == 13) | (DATA.Q56DRINK == 13) | (DATA.Q52AWALLS == 13) | (DATA.Q52AROOF == 13)].index)\n",
    "\n",
    "# drop 88 - Not applicable\n",
    "DATA = DATA.drop(DATA[(DATA.Q658VALUE == 88)].index)\n",
    "\n",
    "\n",
    "#drop 8 - Not available\n",
    "DATA = DATA.drop(DATA[(DATA.Q224BNOMONEY5 == 8) |  (DATA.Q531POLICE == 8)].index)\n",
    "\n",
    "\n",
    "# drop 99 - Unspecified\n",
    "DATA = DATA.drop(DATA[(DATA.Q658VALUE == 99) | (DATA.Q56OTHER == 99) | (DATA.Q56DRINK == 99) | (DATA.Q52AWALLS == 99) | (DATA.Q52AROOF == 99) | (DATA.Q651TOTROOMS == 99) | (DATA.Q531POLICE == 99) | (DATA.Q518TOILET == 99)].index) \n",
    "\n",
    "# replacing 8 with a 2.\n",
    "DATA['Q51NOOTH'].replace({8:2} , inplace = True)\n",
    "DATA.reset_index(inplace = True)\n",
    "DATA.head()"
   ]
  },
  {
   "cell_type": "markdown",
   "metadata": {},
   "source": [
    "For attribute Q51NOOTH we replaced instances with '8' representing 'Not Applicable' to '2', which represents 'No' to show whether an individual had more than 1 dwelling or not. We then carefully dropped the null values."
   ]
  },
  {
   "cell_type": "markdown",
   "metadata": {},
   "source": [
    "### Sense Checks\n",
    "1. First we are checking if every attribute has the correct datatype<br/>"
   ]
  },
  {
   "cell_type": "code",
   "execution_count": 17,
   "metadata": {},
   "outputs": [
    {
     "data": {
      "text/plain": [
       "index                            int64\n",
       "Q116PRESENT                      int64\n",
       "Q51MAIN                          int64\n",
       "Q51NOOTH                         int64\n",
       "Q52AWALLS                        int64\n",
       "Q52AROOF                         int64\n",
       "Q53WALLS                         int64\n",
       "Q53ROOF                          int64\n",
       "Q54ADWELLING                     int64\n",
       "Q161CPUBATT                      int64\n",
       "Q161CPRIVATT                     int64\n",
       "Q54AOTHER                        int64\n",
       "Q56DRINK                         int64\n",
       "Q56OTHER                         int64\n",
       "Q518TOILET                       int64\n",
       "Q524ELECT                        int64\n",
       "Q531POLICE                       int64\n",
       "Q532FOOD                         int64\n",
       "Q62OWNSHIP                       int64\n",
       "Q651TOTROOMS                     int64\n",
       "Q658VALUE                        int64\n",
       "Q61035POLICE                     int64\n",
       "Q224BNOMONEY5                    int64\n",
       "Q2341SAVING                      int64\n",
       "province_code                    int64\n",
       "SETTLEMENT_TYPE                  int64\n",
       "Ageofhead                        int64\n",
       "hhsize                           int64\n",
       "income                         float64\n",
       "Total_IOPBV                      int64\n",
       "Total_number_of_convictions      int64\n",
       "dtype: object"
      ]
     },
     "execution_count": 17,
     "metadata": {},
     "output_type": "execute_result"
    }
   ],
   "source": [
    "DATA.dtypes"
   ]
  },
  {
   "cell_type": "markdown",
   "metadata": {},
   "source": [
    "The attributes are in the correct datatype"
   ]
  },
  {
   "cell_type": "code",
   "execution_count": 21,
   "metadata": {},
   "outputs": [
    {
     "data": {
      "text/plain": [
       "province_code\n",
       "1    293\n",
       "2    892\n",
       "3    325\n",
       "4    630\n",
       "5    907\n",
       "6    462\n",
       "7    348\n",
       "8    477\n",
       "9    663\n",
       "Name: index, dtype: int64"
      ]
     },
     "execution_count": 21,
     "metadata": {},
     "output_type": "execute_result"
    }
   ],
   "source": [
    "DATA.groupby(\"province_code\").count()[\"index\"]"
   ]
  },
  {
   "cell_type": "markdown",
   "metadata": {},
   "source": [
    "2.1 We are checking the frequency of each attribute by each province to see if we have covered enough samples per province. From the output we can say that we have covered enough samples per province since the counts are not that different from each other.<br/>"
   ]
  },
  {
   "cell_type": "code",
   "execution_count": 23,
   "metadata": {},
   "outputs": [
    {
     "data": {
      "text/plain": [
       "Q658VALUE\n",
       "1      428\n",
       "2      511\n",
       "3      717\n",
       "4     1521\n",
       "5      883\n",
       "6      525\n",
       "7      262\n",
       "8       78\n",
       "9       40\n",
       "10      12\n",
       "11      11\n",
       "12       9\n",
       "Name: index, dtype: int64"
      ]
     },
     "execution_count": 23,
     "metadata": {},
     "output_type": "execute_result"
    }
   ],
   "source": [
    "groupby_value = DATA.groupby(\"Q658VALUE\").count()[\"index\"]\n",
    "groupby_value"
   ]
  },
  {
   "cell_type": "code",
   "execution_count": 28,
   "metadata": {
    "scrolled": true
   },
   "outputs": [
    {
     "data": {
      "text/plain": [
       "<BarContainer object of 12 artists>"
      ]
     },
     "execution_count": 28,
     "metadata": {},
     "output_type": "execute_result"
    },
    {
     "data": {
      "image/png": "[encoded data removed]",
      "text/plain": [
       "<Figure size 432x288 with 1 Axes>"
      ]
     },
     "metadata": {
      "needs_background": "light"
     },
     "output_type": "display_data"
    }
   ],
   "source": [
    "plt.bar(groupby_value.index, groupby_value)"
   ]
  },
  {
   "cell_type": "markdown",
   "metadata": {},
   "source": [
    "2.2 The data is skewed to the right, which makes sense because there are less people who live in houses that are valued at more that R500,000 and above (from index 8)."
   ]
  },
  {
   "cell_type": "markdown",
   "metadata": {},
   "source": [
    "## Exploratory Analyses"
   ]
  },
  {
   "cell_type": "markdown",
   "metadata": {},
   "source": [
    "Firstly, to explore the relationship between Province,Income,Household living conditons, the timeframe in which the household has no money for 5 days or more and the total number of Instances Of Person Being a Victim and  total number of conviction of a crime, the relationships between these variables against total number of conviction of a crime are plotted."
   ]
  },
  {
   "cell_type": "code",
   "execution_count": 8,
   "metadata": {},
   "outputs": [
    {
     "data": {
      "image/png": "[encoded data removed]",
      "text/plain": [
       "<Figure size 1080x720 with 1 Axes>"
      ]
     },
     "metadata": {
      "needs_background": "light"
     },
     "output_type": "display_data"
    }
   ],
   "source": [
    "prov = DATA.province_code\n",
    "convictions = DATA.Total_number_of_convictions\n",
    "\n",
    "labels = ['Western Cape','Eastern Cape','Northern Cape','Free State',\n",
    "                    'KwaZulu-Natal','North West','Gauteng','Mpumalanga','Limpopo']\n",
    "x = [1,2,3,4,5,6,7,8,9]\n",
    "\n",
    "fig,ax = plt.subplots()\n",
    "fig.set_size_inches(15, 10)\n",
    "plt.xticks(x, labels, rotation='vertical')\n",
    "ax.set_xticks(x)\n",
    "ax.set_xticklabels(labels)\n",
    "ax.bar(prov,convictions)\n",
    "\n",
    "\n",
    "plt.title('Province vs Total number of convictions')\n",
    "plt.ylabel('Total number of convictions')\n",
    "plt.xlabel('Province')\n",
    "plt.show()"
   ]
  },
  {
   "cell_type": "markdown",
   "metadata": {},
   "source": []
  },
  {
   "cell_type": "code",
   "execution_count": 9,
   "metadata": {},
   "outputs": [
    {
     "data": {
      "image/png": "[encoded data removed]",
      "text/plain": [
       "<Figure size 720x720 with 1 Axes>"
      ]
     },
     "metadata": {
      "needs_background": "light"
     },
     "output_type": "display_data"
    }
   ],
   "source": [
    "income = DATA.income\n",
    "convictions = DATA.Total_number_of_convictions\n",
    "\n",
    "fig,ax = plt.subplots()\n",
    "fig.set_size_inches(10, 10)\n",
    "ax.bar(convictions,income)\n",
    "plt.title('Income vs Total number of convictions')\n",
    "plt.xlabel('Total number of convictions')\n",
    "plt.ylabel('income (Rands)')\n",
    "plt.show()\n"
   ]
  },
  {
   "cell_type": "markdown",
   "metadata": {},
   "source": [
    "As it can be seen from the plot(Income vs Total number of convictions), households with people earning alot of money have less total number of convections compared to those earning less income."
   ]
  },
  {
   "cell_type": "code",
   "execution_count": 10,
   "metadata": {},
   "outputs": [
    {
     "data": {
      "image/png": "[encoded data removed]",
      "text/plain": [
       "<Figure size 1080x720 with 1 Axes>"
      ]
     },
     "metadata": {
      "needs_background": "light"
     },
     "output_type": "display_data"
    }
   ],
   "source": [
    "living_condition = DATA.Q116PRESENT\n",
    "convictions = DATA.Total_number_of_convictions\n",
    "\n",
    "labels = ['Wealthy','Very comfortable','Reasonably comfortable',\n",
    "                    'Just getting along','Poor','Very poor']\n",
    "x = [1,2,3,4,5,6]\n",
    "\n",
    "fig,ax = plt.subplots()\n",
    "fig.set_size_inches(15, 10)\n",
    "plt.xticks(x, labels, rotation='vertical')\n",
    "ax.bar(living_condition,convictions)\n",
    "ax.set_xticks(x)\n",
    "ax.set_xticklabels(labels)\n",
    "plt.title('Household living condition vs Total number of convictions')\n",
    "plt.ylabel('Total number of convictions')\n",
    "plt.xlabel('living_condition')\n",
    "plt.show()"
   ]
  },
  {
   "cell_type": "markdown",
   "metadata": {},
   "source": [
    "As it can be seen from the plot that household living in a wealthy, very comfortable and reasonably comfortable living conditions face less crime convictions than those living in poor cnditions "
   ]
  },
  {
   "cell_type": "code",
   "execution_count": 11,
   "metadata": {},
   "outputs": [
    {
     "data": {
      "image/png": "[encoded data removed]",
      "text/plain": [
       "<Figure size 1080x720 with 1 Axes>"
      ]
     },
     "metadata": {
      "needs_background": "light"
     },
     "output_type": "display_data"
    }
   ],
   "source": [
    "police_dist = DATA.Q531POLICE\n",
    "convictions = DATA.Total_number_of_convictions\n",
    "\n",
    "\n",
    "labels = ['Less than 500m','500m – less than 1km','1km – less than 2km',\n",
    "                    '2km – less than 5km','5km – less than 10km','10km – less than 20km','20km or more']\n",
    "x = [1,2,3,4,5,6,7]\n",
    "\n",
    "fig,ax = plt.subplots()\n",
    "fig.set_size_inches(15, 10)\n",
    "plt.xticks(x, labels, rotation='vertical')\n",
    "ax.set_xticks(x)\n",
    "ax.set_xticklabels(labels)\n",
    "ax.bar(police_dist,convictions)\n",
    "plt.title('Distance from the police station vs Total number of convictions')\n",
    "plt.ylabel('Total number of convictions')\n",
    "plt.xlabel('Distance from the police station')\n",
    "plt.show()\n"
   ]
  },
  {
   "cell_type": "markdown",
   "metadata": {},
   "source": [
    "As it can be seen from the plot that distance of households which are not far from the from the police station have less crime convections and house hold having a distance of 20km or more from the police station experience more crime converctions"
   ]
  },
  {
   "cell_type": "code",
   "execution_count": 12,
   "metadata": {},
   "outputs": [
    {
     "data": {
      "image/png": "[encoded data removed]",
      "text/plain": [
       "<Figure size 720x720 with 1 Axes>"
      ]
     },
     "metadata": {
      "needs_background": "light"
     },
     "output_type": "display_data"
    }
   ],
   "source": [
    "no_food = DATA.Q224BNOMONEY5  \n",
    "convictions = DATA.Total_number_of_convictions\n",
    "# plt.bar(no_food, convictions)\n",
    "fig,ax = plt.subplots()\n",
    "\n",
    "ax.bar(no_food,convictions)\n",
    "fig.set_size_inches(10, 10)\n",
    "ax.set_xticks([1,2])\n",
    "ax.set_xticklabels(['Yes','No'])\n",
    "plt.title('Timeframe in which the household has no money for 5 days or more  vs Total number of convictions' )\n",
    "plt.ylabel('Total number of convictions')\n",
    "plt.xlabel('No money for 5 or more days')\n",
    "# plt.set_xticks([1,2])\n",
    "plt.show()"
   ]
  },
  {
   "cell_type": "markdown",
   "metadata": {},
   "source": [
    "As it can be seen from the plot that households that had no money for 5 days have more crime convections than households that had money"
   ]
  },
  {
   "cell_type": "code",
   "execution_count": 13,
   "metadata": {},
   "outputs": [
    {
     "data": {
      "image/png": "[encoded data removed]",
      "text/plain": [
       "<Figure size 432x288 with 1 Axes>"
      ]
     },
     "metadata": {
      "needs_background": "light"
     },
     "output_type": "display_data"
    }
   ],
   "source": [
    "victims_of_crime= DATA.Total_IOPBV  \n",
    "convictions = DATA.Total_number_of_convictions\n",
    "\n",
    "# plt.scatter(no_food,convictions)\n",
    "fig,ax = plt.subplots()\n",
    "# fig.set_size_inches(10, 10)\n",
    "\n",
    "ax.bar(victims_of_crime, convictions)\n",
    "plt.title('Total number of Instances Of Person Being a Victim vs Total number of convictions')\n",
    "plt.ylabel('Total number of convictions')\n",
    "plt.xlabel('Total number of Instances Of Person Being a Victim')\n",
    "plt.show()"
   ]
  },
  {
   "cell_type": "markdown",
   "metadata": {},
   "source": [
    "The number of instances of person being a victim to a crime vs total number of convictions plot shows that it is less likely that a person who has been a victim more than 3 times to be convicted of a crime. A person who has been a victim 7 times is less likely than a person who has never been a victim to be convicted of a crime. On the other hand a person who has been a victim three times has the highest chances of being convicted of a crime."
   ]
  },
  {
   "cell_type": "code",
   "execution_count": 14,
   "metadata": {},
   "outputs": [
    {
     "data": {
      "text/html": [
       "<div>\n",
       "<style scoped>\n",
       "    .dataframe tbody tr th:only-of-type {\n",
       "        vertical-align: middle;\n",
       "    }\n",
       "\n",
       "    .dataframe tbody tr th {\n",
       "        vertical-align: top;\n",
       "    }\n",
       "\n",
       "    .dataframe thead th {\n",
       "        text-align: right;\n",
       "    }\n",
       "</style>\n",
       "<table border=\"1\" class=\"dataframe\">\n",
       "  <thead>\n",
       "    <tr style=\"text-align: right;\">\n",
       "      <th></th>\n",
       "      <th>Total_IOPBV</th>\n",
       "      <th>Total_number_of_convictions</th>\n",
       "      <th>income</th>\n",
       "    </tr>\n",
       "  </thead>\n",
       "  <tbody>\n",
       "    <tr>\n",
       "      <th>Total_IOPBV</th>\n",
       "      <td>1.000000</td>\n",
       "      <td>0.065502</td>\n",
       "      <td>0.062174</td>\n",
       "    </tr>\n",
       "    <tr>\n",
       "      <th>Total_number_of_convictions</th>\n",
       "      <td>0.065502</td>\n",
       "      <td>1.000000</td>\n",
       "      <td>-0.006949</td>\n",
       "    </tr>\n",
       "    <tr>\n",
       "      <th>income</th>\n",
       "      <td>0.062174</td>\n",
       "      <td>-0.006949</td>\n",
       "      <td>1.000000</td>\n",
       "    </tr>\n",
       "  </tbody>\n",
       "</table>\n",
       "</div>"
      ],
      "text/plain": [
       "                             Total_IOPBV  Total_number_of_convictions  \\\n",
       "Total_IOPBV                     1.000000                     0.065502   \n",
       "Total_number_of_convictions     0.065502                     1.000000   \n",
       "income                          0.062174                    -0.006949   \n",
       "\n",
       "                               income  \n",
       "Total_IOPBV                  0.062174  \n",
       "Total_number_of_convictions -0.006949  \n",
       "income                       1.000000  "
      ]
     },
     "execution_count": 14,
     "metadata": {},
     "output_type": "execute_result"
    }
   ],
   "source": [
    "df1 = DATA[['Total_IOPBV','Total_number_of_convictions','income']]\n",
    "df1_corr = df1.corr()\n",
    "df1_corr"
   ]
  },
  {
   "cell_type": "code",
   "execution_count": 15,
   "metadata": {
    "scrolled": true
   },
   "outputs": [
    {
     "data": {
      "image/png": "[encoded data removed]",
      "text/plain": [
       "<Figure size 720x720 with 9 Axes>"
      ]
     },
     "metadata": {
      "needs_background": "light"
     },
     "output_type": "display_data"
    }
   ],
   "source": [
    "b = pd.plotting.scatter_matrix(df1, figsize=(10,10))"
   ]
  },
  {
   "cell_type": "markdown",
   "metadata": {},
   "source": [
    "From the correlation matrix of Total number of convictions,Total number of Instances Of Person Being a Victim, and income we can see that the correlation values are very close to zero, this indicates that the might not be a linear relationship between the variable but they are somewhat correlated."
   ]
  },
  {
   "cell_type": "code",
   "execution_count": null,
   "metadata": {},
   "outputs": [],
   "source": []
  }
 ],
 "metadata": {
  "kernelspec": {
   "display_name": "Python 3",
   "language": "python",
   "name": "python3"
  },
  "language_info": {
   "codemirror_mode": {
    "name": "ipython",
    "version": 3
   },
   "file_extension": ".py",
   "mimetype": "text/x-python",
   "name": "python",
   "nbconvert_exporter": "python",
   "pygments_lexer": "ipython3",
   "version": "3.7.3"
  }
 },
 "nbformat": 4,
 "nbformat_minor": 4
}
